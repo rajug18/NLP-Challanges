{
 "cells": [
  {
   "cell_type": "markdown",
   "id": "6b4d069a",
   "metadata": {
    "id": "6b4d069a"
   },
   "source": [
    "#### Product sentiment classification\n",
    "\n",
    "The problem deals with an e-commerce products review and its sentiment here the goal is to predict the sentiment of these reviews based on available historical data.\n",
    "\n",
    "#### Evaluation Metric:\n",
    "The metric used for evaluating the performance of classification model would be F1-Score.\n",
    "\n",
    "Precision = TP/TP+FP\n",
    "\n",
    "Recall = TP/TP+FN\n",
    "\n",
    "F1 Score = 2*(Recall * Precision) / (Recall + Precision)"
   ]
  },
  {
   "cell_type": "code",
   "execution_count": 1,
   "id": "72n9bv-b1vKH",
   "metadata": {
    "colab": {
     "base_uri": "https://localhost:8080/"
    },
    "executionInfo": {
     "elapsed": 22804,
     "status": "ok",
     "timestamp": 1640624513485,
     "user": {
      "displayName": "Raju Gaddam",
      "photoUrl": "https://lh3.googleusercontent.com/a-/AOh14GgjdBtf41qgljAMO59VJ9ilvglL2dkZqOylInD1EPI=s64",
      "userId": "17482937853264836503"
     },
     "user_tz": -330
    },
    "id": "72n9bv-b1vKH",
    "outputId": "eb2ebf2b-c7a4-4601-c583-611d333ea28b"
   },
   "outputs": [
    {
     "name": "stdout",
     "output_type": "stream",
     "text": [
      "Mounted at /content/drive\n"
     ]
    }
   ],
   "source": [
    "from google.colab import drive\n",
    "drive.mount('/content/drive')"
   ]
  },
  {
   "cell_type": "code",
   "execution_count": 1,
   "id": "28e8f857",
   "metadata": {
    "executionInfo": {
     "elapsed": 367,
     "status": "ok",
     "timestamp": 1640624533902,
     "user": {
      "displayName": "Raju Gaddam",
      "photoUrl": "https://lh3.googleusercontent.com/a-/AOh14GgjdBtf41qgljAMO59VJ9ilvglL2dkZqOylInD1EPI=s64",
      "userId": "17482937853264836503"
     },
     "user_tz": -330
    },
    "id": "28e8f857"
   },
   "outputs": [],
   "source": [
    "import pandas as pd\n",
    "import numpy as np"
   ]
  },
  {
   "cell_type": "markdown",
   "id": "b6f6ce9c",
   "metadata": {
    "id": "b6f6ce9c"
   },
   "source": [
    "<b> Loading data  </b>"
   ]
  },
  {
   "cell_type": "code",
   "execution_count": 2,
   "id": "3e2caa2b",
   "metadata": {
    "executionInfo": {
     "elapsed": 720,
     "status": "ok",
     "timestamp": 1640627168483,
     "user": {
      "displayName": "Raju Gaddam",
      "photoUrl": "https://lh3.googleusercontent.com/a-/AOh14GgjdBtf41qgljAMO59VJ9ilvglL2dkZqOylInD1EPI=s64",
      "userId": "17482937853264836503"
     },
     "user_tz": -330
    },
    "id": "3e2caa2b"
   },
   "outputs": [],
   "source": [
    "data = pd.read_csv(\"product_sentiment_classification.csv\")"
   ]
  },
  {
   "cell_type": "markdown",
   "id": "12bc24fc",
   "metadata": {
    "id": "12bc24fc"
   },
   "source": [
    "<b> Understanding data </b>"
   ]
  },
  {
   "cell_type": "code",
   "execution_count": 3,
   "id": "d8a2136b",
   "metadata": {
    "colab": {
     "base_uri": "https://localhost:8080/",
     "height": 206
    },
    "executionInfo": {
     "elapsed": 9,
     "status": "ok",
     "timestamp": 1640627169189,
     "user": {
      "displayName": "Raju Gaddam",
      "photoUrl": "https://lh3.googleusercontent.com/a-/AOh14GgjdBtf41qgljAMO59VJ9ilvglL2dkZqOylInD1EPI=s64",
      "userId": "17482937853264836503"
     },
     "user_tz": -330
    },
    "id": "d8a2136b",
    "outputId": "f98491d5-904d-44c2-ab4a-4b3d56753e53",
    "scrolled": true
   },
   "outputs": [
    {
     "data": {
      "text/html": [
       "<div>\n",
       "<style scoped>\n",
       "    .dataframe tbody tr th:only-of-type {\n",
       "        vertical-align: middle;\n",
       "    }\n",
       "\n",
       "    .dataframe tbody tr th {\n",
       "        vertical-align: top;\n",
       "    }\n",
       "\n",
       "    .dataframe thead th {\n",
       "        text-align: right;\n",
       "    }\n",
       "</style>\n",
       "<table border=\"1\" class=\"dataframe\">\n",
       "  <thead>\n",
       "    <tr style=\"text-align: right;\">\n",
       "      <th></th>\n",
       "      <th>Unnamed: 0</th>\n",
       "      <th>Product_Description</th>\n",
       "      <th>Sentiment</th>\n",
       "    </tr>\n",
       "  </thead>\n",
       "  <tbody>\n",
       "    <tr>\n",
       "      <th>0</th>\n",
       "      <td>0</td>\n",
       "      <td>The Web DesignerÛªs Guide to iOS (and Android...</td>\n",
       "      <td>Positive</td>\n",
       "    </tr>\n",
       "    <tr>\n",
       "      <th>1</th>\n",
       "      <td>1</td>\n",
       "      <td>RT @mention Line for iPad 2 is longer today th...</td>\n",
       "      <td>Positive</td>\n",
       "    </tr>\n",
       "    <tr>\n",
       "      <th>2</th>\n",
       "      <td>2</td>\n",
       "      <td>Crazy that Apple is opening a temporary store ...</td>\n",
       "      <td>Positive</td>\n",
       "    </tr>\n",
       "    <tr>\n",
       "      <th>3</th>\n",
       "      <td>3</td>\n",
       "      <td>The lesson from Google One Pass: In this digit...</td>\n",
       "      <td>Positive</td>\n",
       "    </tr>\n",
       "    <tr>\n",
       "      <th>4</th>\n",
       "      <td>4</td>\n",
       "      <td>RT @mention At the panel: &amp;quot;Your mom has a...</td>\n",
       "      <td>Positive</td>\n",
       "    </tr>\n",
       "  </tbody>\n",
       "</table>\n",
       "</div>"
      ],
      "text/plain": [
       "   Unnamed: 0                                Product_Description Sentiment\n",
       "0           0  The Web DesignerÛªs Guide to iOS (and Android...  Positive\n",
       "1           1  RT @mention Line for iPad 2 is longer today th...  Positive\n",
       "2           2  Crazy that Apple is opening a temporary store ...  Positive\n",
       "3           3  The lesson from Google One Pass: In this digit...  Positive\n",
       "4           4  RT @mention At the panel: &quot;Your mom has a...  Positive"
      ]
     },
     "execution_count": 3,
     "metadata": {},
     "output_type": "execute_result"
    }
   ],
   "source": [
    "data.head()"
   ]
  },
  {
   "cell_type": "code",
   "execution_count": 4,
   "id": "958f06c8",
   "metadata": {
    "executionInfo": {
     "elapsed": 3,
     "status": "ok",
     "timestamp": 1640627169972,
     "user": {
      "displayName": "Raju Gaddam",
      "photoUrl": "https://lh3.googleusercontent.com/a-/AOh14GgjdBtf41qgljAMO59VJ9ilvglL2dkZqOylInD1EPI=s64",
      "userId": "17482937853264836503"
     },
     "user_tz": -330
    },
    "id": "958f06c8"
   },
   "outputs": [],
   "source": [
    "data.columns = ['id', 'Product_Description', 'Sentiment']"
   ]
  },
  {
   "cell_type": "code",
   "execution_count": 5,
   "id": "d16bcb12",
   "metadata": {
    "executionInfo": {
     "elapsed": 22,
     "status": "ok",
     "timestamp": 1640627170770,
     "user": {
      "displayName": "Raju Gaddam",
      "photoUrl": "https://lh3.googleusercontent.com/a-/AOh14GgjdBtf41qgljAMO59VJ9ilvglL2dkZqOylInD1EPI=s64",
      "userId": "17482937853264836503"
     },
     "user_tz": -330
    },
    "id": "d16bcb12"
   },
   "outputs": [],
   "source": [
    "pd.set_option(\"display.max_rows\",None)"
   ]
  },
  {
   "cell_type": "code",
   "execution_count": 6,
   "id": "1c5ba79f",
   "metadata": {
    "colab": {
     "base_uri": "https://localhost:8080/",
     "height": 206
    },
    "executionInfo": {
     "elapsed": 26,
     "status": "ok",
     "timestamp": 1640627170775,
     "user": {
      "displayName": "Raju Gaddam",
      "photoUrl": "https://lh3.googleusercontent.com/a-/AOh14GgjdBtf41qgljAMO59VJ9ilvglL2dkZqOylInD1EPI=s64",
      "userId": "17482937853264836503"
     },
     "user_tz": -330
    },
    "id": "1c5ba79f",
    "outputId": "dee165c7-2a14-4647-c67c-f764f01c5ed1",
    "scrolled": true
   },
   "outputs": [
    {
     "data": {
      "text/html": [
       "<div>\n",
       "<style scoped>\n",
       "    .dataframe tbody tr th:only-of-type {\n",
       "        vertical-align: middle;\n",
       "    }\n",
       "\n",
       "    .dataframe tbody tr th {\n",
       "        vertical-align: top;\n",
       "    }\n",
       "\n",
       "    .dataframe thead th {\n",
       "        text-align: right;\n",
       "    }\n",
       "</style>\n",
       "<table border=\"1\" class=\"dataframe\">\n",
       "  <thead>\n",
       "    <tr style=\"text-align: right;\">\n",
       "      <th></th>\n",
       "      <th>id</th>\n",
       "      <th>Product_Description</th>\n",
       "      <th>Sentiment</th>\n",
       "    </tr>\n",
       "  </thead>\n",
       "  <tbody>\n",
       "    <tr>\n",
       "      <th>0</th>\n",
       "      <td>0</td>\n",
       "      <td>The Web DesignerÛªs Guide to iOS (and Android...</td>\n",
       "      <td>Positive</td>\n",
       "    </tr>\n",
       "    <tr>\n",
       "      <th>1</th>\n",
       "      <td>1</td>\n",
       "      <td>RT @mention Line for iPad 2 is longer today th...</td>\n",
       "      <td>Positive</td>\n",
       "    </tr>\n",
       "    <tr>\n",
       "      <th>2</th>\n",
       "      <td>2</td>\n",
       "      <td>Crazy that Apple is opening a temporary store ...</td>\n",
       "      <td>Positive</td>\n",
       "    </tr>\n",
       "    <tr>\n",
       "      <th>3</th>\n",
       "      <td>3</td>\n",
       "      <td>The lesson from Google One Pass: In this digit...</td>\n",
       "      <td>Positive</td>\n",
       "    </tr>\n",
       "    <tr>\n",
       "      <th>4</th>\n",
       "      <td>4</td>\n",
       "      <td>RT @mention At the panel: &amp;quot;Your mom has a...</td>\n",
       "      <td>Positive</td>\n",
       "    </tr>\n",
       "  </tbody>\n",
       "</table>\n",
       "</div>"
      ],
      "text/plain": [
       "   id                                Product_Description Sentiment\n",
       "0   0  The Web DesignerÛªs Guide to iOS (and Android...  Positive\n",
       "1   1  RT @mention Line for iPad 2 is longer today th...  Positive\n",
       "2   2  Crazy that Apple is opening a temporary store ...  Positive\n",
       "3   3  The lesson from Google One Pass: In this digit...  Positive\n",
       "4   4  RT @mention At the panel: &quot;Your mom has a...  Positive"
      ]
     },
     "execution_count": 6,
     "metadata": {},
     "output_type": "execute_result"
    }
   ],
   "source": [
    "data.head()"
   ]
  },
  {
   "cell_type": "code",
   "execution_count": 7,
   "id": "34b02b3a",
   "metadata": {
    "colab": {
     "base_uri": "https://localhost:8080/"
    },
    "executionInfo": {
     "elapsed": 31,
     "status": "ok",
     "timestamp": 1640627170783,
     "user": {
      "displayName": "Raju Gaddam",
      "photoUrl": "https://lh3.googleusercontent.com/a-/AOh14GgjdBtf41qgljAMO59VJ9ilvglL2dkZqOylInD1EPI=s64",
      "userId": "17482937853264836503"
     },
     "user_tz": -330
    },
    "id": "34b02b3a",
    "outputId": "1ffcb9eb-735a-4d54-ab06-4d91313f1542"
   },
   "outputs": [
    {
     "data": {
      "text/plain": [
       "(4164, 3)"
      ]
     },
     "execution_count": 7,
     "metadata": {},
     "output_type": "execute_result"
    }
   ],
   "source": [
    "data.shape"
   ]
  },
  {
   "cell_type": "code",
   "execution_count": 8,
   "id": "bdf85cbc",
   "metadata": {
    "colab": {
     "base_uri": "https://localhost:8080/"
    },
    "executionInfo": {
     "elapsed": 15,
     "status": "ok",
     "timestamp": 1640627172367,
     "user": {
      "displayName": "Raju Gaddam",
      "photoUrl": "https://lh3.googleusercontent.com/a-/AOh14GgjdBtf41qgljAMO59VJ9ilvglL2dkZqOylInD1EPI=s64",
      "userId": "17482937853264836503"
     },
     "user_tz": -330
    },
    "id": "bdf85cbc",
    "outputId": "5fa95254-08b4-42ca-d158-19f4bec210b9"
   },
   "outputs": [
    {
     "data": {
      "text/plain": [
       "Positive    3765\n",
       "Negetive     399\n",
       "Name: Sentiment, dtype: int64"
      ]
     },
     "execution_count": 8,
     "metadata": {},
     "output_type": "execute_result"
    }
   ],
   "source": [
    "data[\"Sentiment\"].value_counts()"
   ]
  },
  {
   "cell_type": "code",
   "execution_count": 9,
   "id": "8b290a0e",
   "metadata": {
    "colab": {
     "base_uri": "https://localhost:8080/"
    },
    "executionInfo": {
     "elapsed": 14,
     "status": "ok",
     "timestamp": 1640627172368,
     "user": {
      "displayName": "Raju Gaddam",
      "photoUrl": "https://lh3.googleusercontent.com/a-/AOh14GgjdBtf41qgljAMO59VJ9ilvglL2dkZqOylInD1EPI=s64",
      "userId": "17482937853264836503"
     },
     "user_tz": -330
    },
    "id": "8b290a0e",
    "outputId": "a021c87c-3386-45fe-9a4d-c477842f2c45"
   },
   "outputs": [
    {
     "data": {
      "text/plain": [
       "Positive    90.417867\n",
       "Negetive     9.582133\n",
       "Name: Sentiment, dtype: float64"
      ]
     },
     "execution_count": 9,
     "metadata": {},
     "output_type": "execute_result"
    }
   ],
   "source": [
    "data[\"Sentiment\"].value_counts(normalize=True)*100"
   ]
  },
  {
   "cell_type": "code",
   "execution_count": 10,
   "id": "d020b510",
   "metadata": {
    "executionInfo": {
     "elapsed": 7,
     "status": "ok",
     "timestamp": 1640627172369,
     "user": {
      "displayName": "Raju Gaddam",
      "photoUrl": "https://lh3.googleusercontent.com/a-/AOh14GgjdBtf41qgljAMO59VJ9ilvglL2dkZqOylInD1EPI=s64",
      "userId": "17482937853264836503"
     },
     "user_tz": -330
    },
    "id": "d020b510"
   },
   "outputs": [],
   "source": [
    "#The dataset has imbalance"
   ]
  },
  {
   "cell_type": "code",
   "execution_count": 11,
   "id": "00ffa7b2",
   "metadata": {
    "colab": {
     "base_uri": "https://localhost:8080/"
    },
    "executionInfo": {
     "elapsed": 7,
     "status": "ok",
     "timestamp": 1640627173703,
     "user": {
      "displayName": "Raju Gaddam",
      "photoUrl": "https://lh3.googleusercontent.com/a-/AOh14GgjdBtf41qgljAMO59VJ9ilvglL2dkZqOylInD1EPI=s64",
      "userId": "17482937853264836503"
     },
     "user_tz": -330
    },
    "id": "00ffa7b2",
    "outputId": "4bc2759e-2e78-48f1-8d1b-286931a42abe"
   },
   "outputs": [
    {
     "data": {
      "text/plain": [
       "id                     0\n",
       "Product_Description    0\n",
       "Sentiment              0\n",
       "dtype: int64"
      ]
     },
     "execution_count": 11,
     "metadata": {},
     "output_type": "execute_result"
    }
   ],
   "source": [
    "data.isnull().sum()"
   ]
  },
  {
   "cell_type": "markdown",
   "id": "25c6ac7a",
   "metadata": {
    "id": "25c6ac7a"
   },
   "source": [
    "#### Data cleaning"
   ]
  },
  {
   "cell_type": "markdown",
   "id": "8a46e242",
   "metadata": {
    "id": "8a46e242"
   },
   "source": [
    "The data has @mentions and #tag mentions, preprocessing step involves removing these tags"
   ]
  },
  {
   "cell_type": "code",
   "execution_count": 12,
   "id": "e93783be",
   "metadata": {
    "executionInfo": {
     "elapsed": 514,
     "status": "ok",
     "timestamp": 1640627176492,
     "user": {
      "displayName": "Raju Gaddam",
      "photoUrl": "https://lh3.googleusercontent.com/a-/AOh14GgjdBtf41qgljAMO59VJ9ilvglL2dkZqOylInD1EPI=s64",
      "userId": "17482937853264836503"
     },
     "user_tz": -330
    },
    "id": "e93783be"
   },
   "outputs": [],
   "source": [
    "import re\n",
    "def remove_handles(text,pattern):\n",
    "    handles=re.findall(pattern,text)\n",
    "    for handle in handles:\n",
    "        text=re.sub(handle,'',text)\n",
    "    return text\n",
    "\n",
    "# Remove twitter handles\n",
    "data['clean_des'] = data.Product_Description.apply(lambda Product_Description: remove_handles(str(Product_Description),\"@[\\w]*\"))"
   ]
  },
  {
   "cell_type": "code",
   "execution_count": 13,
   "id": "8c3d59f4",
   "metadata": {
    "colab": {
     "base_uri": "https://localhost:8080/",
     "height": 676
    },
    "executionInfo": {
     "elapsed": 12,
     "status": "ok",
     "timestamp": 1640627178159,
     "user": {
      "displayName": "Raju Gaddam",
      "photoUrl": "https://lh3.googleusercontent.com/a-/AOh14GgjdBtf41qgljAMO59VJ9ilvglL2dkZqOylInD1EPI=s64",
      "userId": "17482937853264836503"
     },
     "user_tz": -330
    },
    "id": "8c3d59f4",
    "outputId": "fcc2700f-f2a9-43ac-d035-47ceeb7ba14f"
   },
   "outputs": [
    {
     "data": {
      "text/html": [
       "<div>\n",
       "<style scoped>\n",
       "    .dataframe tbody tr th:only-of-type {\n",
       "        vertical-align: middle;\n",
       "    }\n",
       "\n",
       "    .dataframe tbody tr th {\n",
       "        vertical-align: top;\n",
       "    }\n",
       "\n",
       "    .dataframe thead th {\n",
       "        text-align: right;\n",
       "    }\n",
       "</style>\n",
       "<table border=\"1\" class=\"dataframe\">\n",
       "  <thead>\n",
       "    <tr style=\"text-align: right;\">\n",
       "      <th></th>\n",
       "      <th>id</th>\n",
       "      <th>Product_Description</th>\n",
       "      <th>Sentiment</th>\n",
       "      <th>clean_des</th>\n",
       "    </tr>\n",
       "  </thead>\n",
       "  <tbody>\n",
       "    <tr>\n",
       "      <th>0</th>\n",
       "      <td>0</td>\n",
       "      <td>The Web DesignerÛªs Guide to iOS (and Android...</td>\n",
       "      <td>Positive</td>\n",
       "      <td>The Web DesignerÛªs Guide to iOS (and Android...</td>\n",
       "    </tr>\n",
       "    <tr>\n",
       "      <th>1</th>\n",
       "      <td>1</td>\n",
       "      <td>RT @mention Line for iPad 2 is longer today th...</td>\n",
       "      <td>Positive</td>\n",
       "      <td>RT  Line for iPad 2 is longer today than yeste...</td>\n",
       "    </tr>\n",
       "    <tr>\n",
       "      <th>2</th>\n",
       "      <td>2</td>\n",
       "      <td>Crazy that Apple is opening a temporary store ...</td>\n",
       "      <td>Positive</td>\n",
       "      <td>Crazy that Apple is opening a temporary store ...</td>\n",
       "    </tr>\n",
       "    <tr>\n",
       "      <th>3</th>\n",
       "      <td>3</td>\n",
       "      <td>The lesson from Google One Pass: In this digit...</td>\n",
       "      <td>Positive</td>\n",
       "      <td>The lesson from Google One Pass: In this digit...</td>\n",
       "    </tr>\n",
       "    <tr>\n",
       "      <th>4</th>\n",
       "      <td>4</td>\n",
       "      <td>RT @mention At the panel: &amp;quot;Your mom has a...</td>\n",
       "      <td>Positive</td>\n",
       "      <td>RT  At the panel: &amp;quot;Your mom has an ipad, ...</td>\n",
       "    </tr>\n",
       "    <tr>\n",
       "      <th>5</th>\n",
       "      <td>5</td>\n",
       "      <td>RT @mention I think my effing hubby is in line...</td>\n",
       "      <td>Negetive</td>\n",
       "      <td>RT  I think my effing hubby is in line for an ...</td>\n",
       "    </tr>\n",
       "    <tr>\n",
       "      <th>6</th>\n",
       "      <td>6</td>\n",
       "      <td>&amp;quot;Android users are not iPhone users. (The...</td>\n",
       "      <td>Positive</td>\n",
       "      <td>&amp;quot;Android users are not iPhone users. (The...</td>\n",
       "    </tr>\n",
       "    <tr>\n",
       "      <th>7</th>\n",
       "      <td>7</td>\n",
       "      <td>Google to Launch New Social Network Called Cir...</td>\n",
       "      <td>Positive</td>\n",
       "      <td>Google to Launch New Social Network Called Cir...</td>\n",
       "    </tr>\n",
       "    <tr>\n",
       "      <th>8</th>\n",
       "      <td>8</td>\n",
       "      <td>@mention  Welcome! Enjoy #Sxsw and ride anywhe...</td>\n",
       "      <td>Positive</td>\n",
       "      <td>Welcome! Enjoy #Sxsw and ride anywhere in Au...</td>\n",
       "    </tr>\n",
       "    <tr>\n",
       "      <th>9</th>\n",
       "      <td>9</td>\n",
       "      <td>RT @mention Apple plans to Keep Austin Wired, ...</td>\n",
       "      <td>Positive</td>\n",
       "      <td>RT  Apple plans to Keep Austin Wired, opening ...</td>\n",
       "    </tr>\n",
       "    <tr>\n",
       "      <th>10</th>\n",
       "      <td>10</td>\n",
       "      <td>You know it is #SXSW season when there are 10 ...</td>\n",
       "      <td>Positive</td>\n",
       "      <td>You know it is #SXSW season when there are 10 ...</td>\n",
       "    </tr>\n",
       "    <tr>\n",
       "      <th>11</th>\n",
       "      <td>11</td>\n",
       "      <td>RT @mention RT @mention Arriving in the US for...</td>\n",
       "      <td>Positive</td>\n",
       "      <td>RT  RT  Arriving in the US for #sxsw, will be ...</td>\n",
       "    </tr>\n",
       "    <tr>\n",
       "      <th>12</th>\n",
       "      <td>12</td>\n",
       "      <td>ÛÏ@mention It's not a rumor: Apple is opening...</td>\n",
       "      <td>Positive</td>\n",
       "      <td>ÛÏ It's not a rumor: Apple is opening up a te...</td>\n",
       "    </tr>\n",
       "    <tr>\n",
       "      <th>13</th>\n",
       "      <td>13</td>\n",
       "      <td>Horrible repressed memories of the Apple spinn...</td>\n",
       "      <td>Negetive</td>\n",
       "      <td>Horrible repressed memories of the Apple spinn...</td>\n",
       "    </tr>\n",
       "    <tr>\n",
       "      <th>14</th>\n",
       "      <td>14</td>\n",
       "      <td>@mention saw a man drop his iphone in a gutter...</td>\n",
       "      <td>Positive</td>\n",
       "      <td>saw a man drop his iphone in a gutter last ye...</td>\n",
       "    </tr>\n",
       "    <tr>\n",
       "      <th>15</th>\n",
       "      <td>15</td>\n",
       "      <td>RT @mention #Social Is Too Important For #Goog...</td>\n",
       "      <td>Positive</td>\n",
       "      <td>RT  #Social Is Too Important For #Google To Sc...</td>\n",
       "    </tr>\n",
       "    <tr>\n",
       "      <th>16</th>\n",
       "      <td>16</td>\n",
       "      <td>brace yourselves for the audio onslaught of #S...</td>\n",
       "      <td>Positive</td>\n",
       "      <td>brace yourselves for the audio onslaught of #S...</td>\n",
       "    </tr>\n",
       "    <tr>\n",
       "      <th>17</th>\n",
       "      <td>17</td>\n",
       "      <td>#sxsw #enchantment: @mention &amp;quot;Sell your d...</td>\n",
       "      <td>Negetive</td>\n",
       "      <td>#sxsw #enchantment:  &amp;quot;Sell your dream. St...</td>\n",
       "    </tr>\n",
       "    <tr>\n",
       "      <th>18</th>\n",
       "      <td>18</td>\n",
       "      <td>Thanks to Heathcare Digital @mention for publi...</td>\n",
       "      <td>Positive</td>\n",
       "      <td>Thanks to Heathcare Digital  for publishing th...</td>\n",
       "    </tr>\n",
       "    <tr>\n",
       "      <th>19</th>\n",
       "      <td>19</td>\n",
       "      <td>Tomorrow, Charles Chen will be speaking about ...</td>\n",
       "      <td>Positive</td>\n",
       "      <td>Tomorrow, Charles Chen will be speaking about ...</td>\n",
       "    </tr>\n",
       "  </tbody>\n",
       "</table>\n",
       "</div>"
      ],
      "text/plain": [
       "    id                                Product_Description Sentiment  \\\n",
       "0    0  The Web DesignerÛªs Guide to iOS (and Android...  Positive   \n",
       "1    1  RT @mention Line for iPad 2 is longer today th...  Positive   \n",
       "2    2  Crazy that Apple is opening a temporary store ...  Positive   \n",
       "3    3  The lesson from Google One Pass: In this digit...  Positive   \n",
       "4    4  RT @mention At the panel: &quot;Your mom has a...  Positive   \n",
       "5    5  RT @mention I think my effing hubby is in line...  Negetive   \n",
       "6    6  &quot;Android users are not iPhone users. (The...  Positive   \n",
       "7    7  Google to Launch New Social Network Called Cir...  Positive   \n",
       "8    8  @mention  Welcome! Enjoy #Sxsw and ride anywhe...  Positive   \n",
       "9    9  RT @mention Apple plans to Keep Austin Wired, ...  Positive   \n",
       "10  10  You know it is #SXSW season when there are 10 ...  Positive   \n",
       "11  11  RT @mention RT @mention Arriving in the US for...  Positive   \n",
       "12  12  ÛÏ@mention It's not a rumor: Apple is opening...  Positive   \n",
       "13  13  Horrible repressed memories of the Apple spinn...  Negetive   \n",
       "14  14  @mention saw a man drop his iphone in a gutter...  Positive   \n",
       "15  15  RT @mention #Social Is Too Important For #Goog...  Positive   \n",
       "16  16  brace yourselves for the audio onslaught of #S...  Positive   \n",
       "17  17  #sxsw #enchantment: @mention &quot;Sell your d...  Negetive   \n",
       "18  18  Thanks to Heathcare Digital @mention for publi...  Positive   \n",
       "19  19  Tomorrow, Charles Chen will be speaking about ...  Positive   \n",
       "\n",
       "                                            clean_des  \n",
       "0   The Web DesignerÛªs Guide to iOS (and Android...  \n",
       "1   RT  Line for iPad 2 is longer today than yeste...  \n",
       "2   Crazy that Apple is opening a temporary store ...  \n",
       "3   The lesson from Google One Pass: In this digit...  \n",
       "4   RT  At the panel: &quot;Your mom has an ipad, ...  \n",
       "5   RT  I think my effing hubby is in line for an ...  \n",
       "6   &quot;Android users are not iPhone users. (The...  \n",
       "7   Google to Launch New Social Network Called Cir...  \n",
       "8     Welcome! Enjoy #Sxsw and ride anywhere in Au...  \n",
       "9   RT  Apple plans to Keep Austin Wired, opening ...  \n",
       "10  You know it is #SXSW season when there are 10 ...  \n",
       "11  RT  RT  Arriving in the US for #sxsw, will be ...  \n",
       "12  ÛÏ It's not a rumor: Apple is opening up a te...  \n",
       "13  Horrible repressed memories of the Apple spinn...  \n",
       "14   saw a man drop his iphone in a gutter last ye...  \n",
       "15  RT  #Social Is Too Important For #Google To Sc...  \n",
       "16  brace yourselves for the audio onslaught of #S...  \n",
       "17  #sxsw #enchantment:  &quot;Sell your dream. St...  \n",
       "18  Thanks to Heathcare Digital  for publishing th...  \n",
       "19  Tomorrow, Charles Chen will be speaking about ...  "
      ]
     },
     "execution_count": 13,
     "metadata": {},
     "output_type": "execute_result"
    }
   ],
   "source": [
    "data.head(20)"
   ]
  },
  {
   "cell_type": "code",
   "execution_count": 14,
   "id": "addfb370",
   "metadata": {
    "executionInfo": {
     "elapsed": 4,
     "status": "ok",
     "timestamp": 1640627178740,
     "user": {
      "displayName": "Raju Gaddam",
      "photoUrl": "https://lh3.googleusercontent.com/a-/AOh14GgjdBtf41qgljAMO59VJ9ilvglL2dkZqOylInD1EPI=s64",
      "userId": "17482937853264836503"
     },
     "user_tz": -330
    },
    "id": "addfb370"
   },
   "outputs": [],
   "source": [
    "def remove_specialchars(text,pattern):\n",
    "    text=re.sub(pattern,' ',text)\n",
    "    return text\n",
    "\n",
    "# Remove special characters,numbers and punctuations except \" # \" and \" ' \"\n",
    "data['clean_des'] = data.clean_des.apply(lambda clean_des: remove_specialchars(str(clean_des),\"[^a-zA-Z'#]\"))"
   ]
  },
  {
   "cell_type": "code",
   "execution_count": 15,
   "id": "a898cd15",
   "metadata": {
    "colab": {
     "base_uri": "https://localhost:8080/",
     "height": 676
    },
    "executionInfo": {
     "elapsed": 11,
     "status": "ok",
     "timestamp": 1640627179474,
     "user": {
      "displayName": "Raju Gaddam",
      "photoUrl": "https://lh3.googleusercontent.com/a-/AOh14GgjdBtf41qgljAMO59VJ9ilvglL2dkZqOylInD1EPI=s64",
      "userId": "17482937853264836503"
     },
     "user_tz": -330
    },
    "id": "a898cd15",
    "outputId": "ef3d75f5-5912-42b1-a0ef-1dfd65993b3c"
   },
   "outputs": [
    {
     "data": {
      "text/html": [
       "<div>\n",
       "<style scoped>\n",
       "    .dataframe tbody tr th:only-of-type {\n",
       "        vertical-align: middle;\n",
       "    }\n",
       "\n",
       "    .dataframe tbody tr th {\n",
       "        vertical-align: top;\n",
       "    }\n",
       "\n",
       "    .dataframe thead th {\n",
       "        text-align: right;\n",
       "    }\n",
       "</style>\n",
       "<table border=\"1\" class=\"dataframe\">\n",
       "  <thead>\n",
       "    <tr style=\"text-align: right;\">\n",
       "      <th></th>\n",
       "      <th>id</th>\n",
       "      <th>Product_Description</th>\n",
       "      <th>Sentiment</th>\n",
       "      <th>clean_des</th>\n",
       "    </tr>\n",
       "  </thead>\n",
       "  <tbody>\n",
       "    <tr>\n",
       "      <th>0</th>\n",
       "      <td>0</td>\n",
       "      <td>The Web DesignerÛªs Guide to iOS (and Android...</td>\n",
       "      <td>Positive</td>\n",
       "      <td>The Web Designer   s Guide to iOS  and Android...</td>\n",
       "    </tr>\n",
       "    <tr>\n",
       "      <th>1</th>\n",
       "      <td>1</td>\n",
       "      <td>RT @mention Line for iPad 2 is longer today th...</td>\n",
       "      <td>Positive</td>\n",
       "      <td>RT  Line for iPad   is longer today than yeste...</td>\n",
       "    </tr>\n",
       "    <tr>\n",
       "      <th>2</th>\n",
       "      <td>2</td>\n",
       "      <td>Crazy that Apple is opening a temporary store ...</td>\n",
       "      <td>Positive</td>\n",
       "      <td>Crazy that Apple is opening a temporary store ...</td>\n",
       "    </tr>\n",
       "    <tr>\n",
       "      <th>3</th>\n",
       "      <td>3</td>\n",
       "      <td>The lesson from Google One Pass: In this digit...</td>\n",
       "      <td>Positive</td>\n",
       "      <td>The lesson from Google One Pass  In this digit...</td>\n",
       "    </tr>\n",
       "    <tr>\n",
       "      <th>4</th>\n",
       "      <td>4</td>\n",
       "      <td>RT @mention At the panel: &amp;quot;Your mom has a...</td>\n",
       "      <td>Positive</td>\n",
       "      <td>RT  At the panel   quot Your mom has an ipad  ...</td>\n",
       "    </tr>\n",
       "    <tr>\n",
       "      <th>5</th>\n",
       "      <td>5</td>\n",
       "      <td>RT @mention I think my effing hubby is in line...</td>\n",
       "      <td>Negetive</td>\n",
       "      <td>RT  I think my effing hubby is in line for an ...</td>\n",
       "    </tr>\n",
       "    <tr>\n",
       "      <th>6</th>\n",
       "      <td>6</td>\n",
       "      <td>&amp;quot;Android users are not iPhone users. (The...</td>\n",
       "      <td>Positive</td>\n",
       "      <td>quot Android users are not iPhone users   The...</td>\n",
       "    </tr>\n",
       "    <tr>\n",
       "      <th>7</th>\n",
       "      <td>7</td>\n",
       "      <td>Google to Launch New Social Network Called Cir...</td>\n",
       "      <td>Positive</td>\n",
       "      <td>Google to Launch New Social Network Called Cir...</td>\n",
       "    </tr>\n",
       "    <tr>\n",
       "      <th>8</th>\n",
       "      <td>8</td>\n",
       "      <td>@mention  Welcome! Enjoy #Sxsw and ride anywhe...</td>\n",
       "      <td>Positive</td>\n",
       "      <td>Welcome  Enjoy #Sxsw and ride anywhere in Au...</td>\n",
       "    </tr>\n",
       "    <tr>\n",
       "      <th>9</th>\n",
       "      <td>9</td>\n",
       "      <td>RT @mention Apple plans to Keep Austin Wired, ...</td>\n",
       "      <td>Positive</td>\n",
       "      <td>RT  Apple plans to Keep Austin Wired  opening ...</td>\n",
       "    </tr>\n",
       "    <tr>\n",
       "      <th>10</th>\n",
       "      <td>10</td>\n",
       "      <td>You know it is #SXSW season when there are 10 ...</td>\n",
       "      <td>Positive</td>\n",
       "      <td>You know it is #SXSW season when there are    ...</td>\n",
       "    </tr>\n",
       "    <tr>\n",
       "      <th>11</th>\n",
       "      <td>11</td>\n",
       "      <td>RT @mention RT @mention Arriving in the US for...</td>\n",
       "      <td>Positive</td>\n",
       "      <td>RT  RT  Arriving in the US for #sxsw  will be ...</td>\n",
       "    </tr>\n",
       "    <tr>\n",
       "      <th>12</th>\n",
       "      <td>12</td>\n",
       "      <td>ÛÏ@mention It's not a rumor: Apple is opening...</td>\n",
       "      <td>Positive</td>\n",
       "      <td>It's not a rumor  Apple is opening up a te...</td>\n",
       "    </tr>\n",
       "    <tr>\n",
       "      <th>13</th>\n",
       "      <td>13</td>\n",
       "      <td>Horrible repressed memories of the Apple spinn...</td>\n",
       "      <td>Negetive</td>\n",
       "      <td>Horrible repressed memories of the Apple spinn...</td>\n",
       "    </tr>\n",
       "    <tr>\n",
       "      <th>14</th>\n",
       "      <td>14</td>\n",
       "      <td>@mention saw a man drop his iphone in a gutter...</td>\n",
       "      <td>Positive</td>\n",
       "      <td>saw a man drop his iphone in a gutter last ye...</td>\n",
       "    </tr>\n",
       "    <tr>\n",
       "      <th>15</th>\n",
       "      <td>15</td>\n",
       "      <td>RT @mention #Social Is Too Important For #Goog...</td>\n",
       "      <td>Positive</td>\n",
       "      <td>RT  #Social Is Too Important For #Google To Sc...</td>\n",
       "    </tr>\n",
       "    <tr>\n",
       "      <th>16</th>\n",
       "      <td>16</td>\n",
       "      <td>brace yourselves for the audio onslaught of #S...</td>\n",
       "      <td>Positive</td>\n",
       "      <td>brace yourselves for the audio onslaught of #S...</td>\n",
       "    </tr>\n",
       "    <tr>\n",
       "      <th>17</th>\n",
       "      <td>17</td>\n",
       "      <td>#sxsw #enchantment: @mention &amp;quot;Sell your d...</td>\n",
       "      <td>Negetive</td>\n",
       "      <td>#sxsw #enchantment    quot Sell your dream  St...</td>\n",
       "    </tr>\n",
       "    <tr>\n",
       "      <th>18</th>\n",
       "      <td>18</td>\n",
       "      <td>Thanks to Heathcare Digital @mention for publi...</td>\n",
       "      <td>Positive</td>\n",
       "      <td>Thanks to Heathcare Digital  for publishing th...</td>\n",
       "    </tr>\n",
       "    <tr>\n",
       "      <th>19</th>\n",
       "      <td>19</td>\n",
       "      <td>Tomorrow, Charles Chen will be speaking about ...</td>\n",
       "      <td>Positive</td>\n",
       "      <td>Tomorrow  Charles Chen will be speaking about ...</td>\n",
       "    </tr>\n",
       "  </tbody>\n",
       "</table>\n",
       "</div>"
      ],
      "text/plain": [
       "    id                                Product_Description Sentiment  \\\n",
       "0    0  The Web DesignerÛªs Guide to iOS (and Android...  Positive   \n",
       "1    1  RT @mention Line for iPad 2 is longer today th...  Positive   \n",
       "2    2  Crazy that Apple is opening a temporary store ...  Positive   \n",
       "3    3  The lesson from Google One Pass: In this digit...  Positive   \n",
       "4    4  RT @mention At the panel: &quot;Your mom has a...  Positive   \n",
       "5    5  RT @mention I think my effing hubby is in line...  Negetive   \n",
       "6    6  &quot;Android users are not iPhone users. (The...  Positive   \n",
       "7    7  Google to Launch New Social Network Called Cir...  Positive   \n",
       "8    8  @mention  Welcome! Enjoy #Sxsw and ride anywhe...  Positive   \n",
       "9    9  RT @mention Apple plans to Keep Austin Wired, ...  Positive   \n",
       "10  10  You know it is #SXSW season when there are 10 ...  Positive   \n",
       "11  11  RT @mention RT @mention Arriving in the US for...  Positive   \n",
       "12  12  ÛÏ@mention It's not a rumor: Apple is opening...  Positive   \n",
       "13  13  Horrible repressed memories of the Apple spinn...  Negetive   \n",
       "14  14  @mention saw a man drop his iphone in a gutter...  Positive   \n",
       "15  15  RT @mention #Social Is Too Important For #Goog...  Positive   \n",
       "16  16  brace yourselves for the audio onslaught of #S...  Positive   \n",
       "17  17  #sxsw #enchantment: @mention &quot;Sell your d...  Negetive   \n",
       "18  18  Thanks to Heathcare Digital @mention for publi...  Positive   \n",
       "19  19  Tomorrow, Charles Chen will be speaking about ...  Positive   \n",
       "\n",
       "                                            clean_des  \n",
       "0   The Web Designer   s Guide to iOS  and Android...  \n",
       "1   RT  Line for iPad   is longer today than yeste...  \n",
       "2   Crazy that Apple is opening a temporary store ...  \n",
       "3   The lesson from Google One Pass  In this digit...  \n",
       "4   RT  At the panel   quot Your mom has an ipad  ...  \n",
       "5   RT  I think my effing hubby is in line for an ...  \n",
       "6    quot Android users are not iPhone users   The...  \n",
       "7   Google to Launch New Social Network Called Cir...  \n",
       "8     Welcome  Enjoy #Sxsw and ride anywhere in Au...  \n",
       "9   RT  Apple plans to Keep Austin Wired  opening ...  \n",
       "10  You know it is #SXSW season when there are    ...  \n",
       "11  RT  RT  Arriving in the US for #sxsw  will be ...  \n",
       "12      It's not a rumor  Apple is opening up a te...  \n",
       "13  Horrible repressed memories of the Apple spinn...  \n",
       "14   saw a man drop his iphone in a gutter last ye...  \n",
       "15  RT  #Social Is Too Important For #Google To Sc...  \n",
       "16  brace yourselves for the audio onslaught of #S...  \n",
       "17  #sxsw #enchantment    quot Sell your dream  St...  \n",
       "18  Thanks to Heathcare Digital  for publishing th...  \n",
       "19  Tomorrow  Charles Chen will be speaking about ...  "
      ]
     },
     "execution_count": 15,
     "metadata": {},
     "output_type": "execute_result"
    }
   ],
   "source": [
    "data.head(20)"
   ]
  },
  {
   "cell_type": "markdown",
   "id": "1e756483",
   "metadata": {
    "id": "1e756483"
   },
   "source": [
    "#### Data preprocessing"
   ]
  },
  {
   "cell_type": "code",
   "execution_count": 16,
   "id": "84c7f6a4",
   "metadata": {
    "executionInfo": {
     "elapsed": 516,
     "status": "ok",
     "timestamp": 1640627182097,
     "user": {
      "displayName": "Raju Gaddam",
      "photoUrl": "https://lh3.googleusercontent.com/a-/AOh14GgjdBtf41qgljAMO59VJ9ilvglL2dkZqOylInD1EPI=s64",
      "userId": "17482937853264836503"
     },
     "user_tz": -330
    },
    "id": "84c7f6a4",
    "scrolled": true
   },
   "outputs": [],
   "source": [
    "import spacy\n",
    "nlp = spacy.load('en_core_web_sm')\n",
    "from spacy.lang.en.stop_words import STOP_WORDS"
   ]
  },
  {
   "cell_type": "code",
   "execution_count": 17,
   "id": "a198f347",
   "metadata": {
    "executionInfo": {
     "elapsed": 52941,
     "status": "ok",
     "timestamp": 1640627235035,
     "user": {
      "displayName": "Raju Gaddam",
      "photoUrl": "https://lh3.googleusercontent.com/a-/AOh14GgjdBtf41qgljAMO59VJ9ilvglL2dkZqOylInD1EPI=s64",
      "userId": "17482937853264836503"
     },
     "user_tz": -330
    },
    "id": "a198f347"
   },
   "outputs": [],
   "source": [
    "# Step - a: Change all the text to lower case. This is required as python interprets 'data' and 'DATA' differently\n",
    "data['clean_des'] = [sentence.lower() for sentence in data['clean_des']]\n",
    "\n",
    "# Step - b: Tokenization and Remove Stop words, Non-alphabetic and perfom Word Lemmatization.\n",
    "stop_words = list(STOP_WORDS)\n",
    "for index, entry in enumerate(data['clean_des']):\n",
    "    tokens = [token.lemma_ for token in nlp(entry) if ((str(token) not in stop_words) and (token.is_alpha == True))]\n",
    "    clean_text = \" \".join(tokens)\n",
    "    data.loc[index, 'clean_text'] = clean_text"
   ]
  },
  {
   "cell_type": "code",
   "execution_count": 18,
   "id": "a50a1de7",
   "metadata": {
    "colab": {
     "base_uri": "https://localhost:8080/",
     "height": 929
    },
    "executionInfo": {
     "elapsed": 55,
     "status": "ok",
     "timestamp": 1640627235044,
     "user": {
      "displayName": "Raju Gaddam",
      "photoUrl": "https://lh3.googleusercontent.com/a-/AOh14GgjdBtf41qgljAMO59VJ9ilvglL2dkZqOylInD1EPI=s64",
      "userId": "17482937853264836503"
     },
     "user_tz": -330
    },
    "id": "a50a1de7",
    "outputId": "139bd23b-ffc2-4220-fa52-cc16846d7af6"
   },
   "outputs": [
    {
     "data": {
      "text/html": [
       "<div>\n",
       "<style scoped>\n",
       "    .dataframe tbody tr th:only-of-type {\n",
       "        vertical-align: middle;\n",
       "    }\n",
       "\n",
       "    .dataframe tbody tr th {\n",
       "        vertical-align: top;\n",
       "    }\n",
       "\n",
       "    .dataframe thead th {\n",
       "        text-align: right;\n",
       "    }\n",
       "</style>\n",
       "<table border=\"1\" class=\"dataframe\">\n",
       "  <thead>\n",
       "    <tr style=\"text-align: right;\">\n",
       "      <th></th>\n",
       "      <th>id</th>\n",
       "      <th>Product_Description</th>\n",
       "      <th>Sentiment</th>\n",
       "      <th>clean_des</th>\n",
       "      <th>clean_text</th>\n",
       "    </tr>\n",
       "  </thead>\n",
       "  <tbody>\n",
       "    <tr>\n",
       "      <th>0</th>\n",
       "      <td>0</td>\n",
       "      <td>The Web DesignerÛªs Guide to iOS (and Android...</td>\n",
       "      <td>Positive</td>\n",
       "      <td>the web designer   s guide to ios  and android...</td>\n",
       "      <td>web designer s guide io android app today m li...</td>\n",
       "    </tr>\n",
       "    <tr>\n",
       "      <th>1</th>\n",
       "      <td>1</td>\n",
       "      <td>RT @mention Line for iPad 2 is longer today th...</td>\n",
       "      <td>Positive</td>\n",
       "      <td>rt  line for ipad   is longer today than yeste...</td>\n",
       "      <td>rt line ipad long today yesterday sxsw get lin...</td>\n",
       "    </tr>\n",
       "    <tr>\n",
       "      <th>2</th>\n",
       "      <td>2</td>\n",
       "      <td>Crazy that Apple is opening a temporary store ...</td>\n",
       "      <td>Positive</td>\n",
       "      <td>crazy that apple is opening a temporary store ...</td>\n",
       "      <td>crazy apple open temporary store austin tomorr...</td>\n",
       "    </tr>\n",
       "    <tr>\n",
       "      <th>3</th>\n",
       "      <td>3</td>\n",
       "      <td>The lesson from Google One Pass: In this digit...</td>\n",
       "      <td>Positive</td>\n",
       "      <td>the lesson from google one pass  in this digit...</td>\n",
       "      <td>lesson google pass digital environment user wa...</td>\n",
       "    </tr>\n",
       "    <tr>\n",
       "      <th>4</th>\n",
       "      <td>4</td>\n",
       "      <td>RT @mention At the panel: &amp;quot;Your mom has a...</td>\n",
       "      <td>Positive</td>\n",
       "      <td>rt  at the panel   quot your mom has an ipad  ...</td>\n",
       "      <td>rt panel quot mom ipad design boomer quot sxsw</td>\n",
       "    </tr>\n",
       "    <tr>\n",
       "      <th>5</th>\n",
       "      <td>5</td>\n",
       "      <td>RT @mention I think my effing hubby is in line...</td>\n",
       "      <td>Negetive</td>\n",
       "      <td>rt  i think my effing hubby is in line for an ...</td>\n",
       "      <td>rt think eff hubby line ipad point line wife n...</td>\n",
       "    </tr>\n",
       "    <tr>\n",
       "      <th>6</th>\n",
       "      <td>6</td>\n",
       "      <td>&amp;quot;Android users are not iPhone users. (The...</td>\n",
       "      <td>Positive</td>\n",
       "      <td>quot android users are not iphone users   the...</td>\n",
       "      <td>quot android user iphone user use option menu ...</td>\n",
       "    </tr>\n",
       "    <tr>\n",
       "      <th>7</th>\n",
       "      <td>7</td>\n",
       "      <td>Google to Launch New Social Network Called Cir...</td>\n",
       "      <td>Positive</td>\n",
       "      <td>google to launch new social network called cir...</td>\n",
       "      <td>google launch new social network call circle p...</td>\n",
       "    </tr>\n",
       "    <tr>\n",
       "      <th>8</th>\n",
       "      <td>8</td>\n",
       "      <td>@mention  Welcome! Enjoy #Sxsw and ride anywhe...</td>\n",
       "      <td>Positive</td>\n",
       "      <td>welcome  enjoy #sxsw and ride anywhere in au...</td>\n",
       "      <td>welcome enjoy sxsw ride austin dwnld groundlin...</td>\n",
       "    </tr>\n",
       "    <tr>\n",
       "      <th>9</th>\n",
       "      <td>9</td>\n",
       "      <td>RT @mention Apple plans to Keep Austin Wired, ...</td>\n",
       "      <td>Positive</td>\n",
       "      <td>rt  apple plans to keep austin wired  opening ...</td>\n",
       "      <td>rt apple plan austin wire open pop apple store...</td>\n",
       "    </tr>\n",
       "    <tr>\n",
       "      <th>10</th>\n",
       "      <td>10</td>\n",
       "      <td>You know it is #SXSW season when there are 10 ...</td>\n",
       "      <td>Positive</td>\n",
       "      <td>you know it is #sxsw season when there are    ...</td>\n",
       "      <td>know sxsw season app update open iphone app store</td>\n",
       "    </tr>\n",
       "    <tr>\n",
       "      <th>11</th>\n",
       "      <td>11</td>\n",
       "      <td>RT @mention RT @mention Arriving in the US for...</td>\n",
       "      <td>Positive</td>\n",
       "      <td>rt  rt  arriving in the us for #sxsw  will be ...</td>\n",
       "      <td>rt rt arrive sxsw look microsim datum iphone r...</td>\n",
       "    </tr>\n",
       "    <tr>\n",
       "      <th>12</th>\n",
       "      <td>12</td>\n",
       "      <td>ÛÏ@mention It's not a rumor: Apple is opening...</td>\n",
       "      <td>Positive</td>\n",
       "      <td>it's not a rumor  apple is opening up a te...</td>\n",
       "      <td>rumor apple open temporary store downtown aust...</td>\n",
       "    </tr>\n",
       "    <tr>\n",
       "      <th>13</th>\n",
       "      <td>13</td>\n",
       "      <td>Horrible repressed memories of the Apple spinn...</td>\n",
       "      <td>Negetive</td>\n",
       "      <td>horrible repressed memories of the apple spinn...</td>\n",
       "      <td>horrible repressed memory apple spin beach bal...</td>\n",
       "    </tr>\n",
       "    <tr>\n",
       "      <th>14</th>\n",
       "      <td>14</td>\n",
       "      <td>@mention saw a man drop his iphone in a gutter...</td>\n",
       "      <td>Positive</td>\n",
       "      <td>saw a man drop his iphone in a gutter last ye...</td>\n",
       "      <td>see man drop iphone gutter year sxsw</td>\n",
       "    </tr>\n",
       "    <tr>\n",
       "      <th>15</th>\n",
       "      <td>15</td>\n",
       "      <td>RT @mention #Social Is Too Important For #Goog...</td>\n",
       "      <td>Positive</td>\n",
       "      <td>rt  #social is too important for #google to sc...</td>\n",
       "      <td>rt social important google screw big launch ci...</td>\n",
       "    </tr>\n",
       "    <tr>\n",
       "      <th>16</th>\n",
       "      <td>16</td>\n",
       "      <td>brace yourselves for the audio onslaught of #S...</td>\n",
       "      <td>Positive</td>\n",
       "      <td>brace yourselves for the audio onslaught of #s...</td>\n",
       "      <td>brace audio onslaught sxsw enjoy free music sa...</td>\n",
       "    </tr>\n",
       "    <tr>\n",
       "      <th>17</th>\n",
       "      <td>17</td>\n",
       "      <td>#sxsw #enchantment: @mention &amp;quot;Sell your d...</td>\n",
       "      <td>Negetive</td>\n",
       "      <td>#sxsw #enchantment    quot sell your dream  st...</td>\n",
       "      <td>sxsw enchantment quot sell dream steve job iph...</td>\n",
       "    </tr>\n",
       "    <tr>\n",
       "      <th>18</th>\n",
       "      <td>18</td>\n",
       "      <td>Thanks to Heathcare Digital @mention for publi...</td>\n",
       "      <td>Positive</td>\n",
       "      <td>thanks to heathcare digital  for publishing th...</td>\n",
       "      <td>thank heathcare digital publish news new medic...</td>\n",
       "    </tr>\n",
       "    <tr>\n",
       "      <th>19</th>\n",
       "      <td>19</td>\n",
       "      <td>Tomorrow, Charles Chen will be speaking about ...</td>\n",
       "      <td>Positive</td>\n",
       "      <td>tomorrow  charles chen will be speaking about ...</td>\n",
       "      <td>tomorrow charles chen speak android chromeo ac...</td>\n",
       "    </tr>\n",
       "  </tbody>\n",
       "</table>\n",
       "</div>"
      ],
      "text/plain": [
       "    id                                Product_Description Sentiment  \\\n",
       "0    0  The Web DesignerÛªs Guide to iOS (and Android...  Positive   \n",
       "1    1  RT @mention Line for iPad 2 is longer today th...  Positive   \n",
       "2    2  Crazy that Apple is opening a temporary store ...  Positive   \n",
       "3    3  The lesson from Google One Pass: In this digit...  Positive   \n",
       "4    4  RT @mention At the panel: &quot;Your mom has a...  Positive   \n",
       "5    5  RT @mention I think my effing hubby is in line...  Negetive   \n",
       "6    6  &quot;Android users are not iPhone users. (The...  Positive   \n",
       "7    7  Google to Launch New Social Network Called Cir...  Positive   \n",
       "8    8  @mention  Welcome! Enjoy #Sxsw and ride anywhe...  Positive   \n",
       "9    9  RT @mention Apple plans to Keep Austin Wired, ...  Positive   \n",
       "10  10  You know it is #SXSW season when there are 10 ...  Positive   \n",
       "11  11  RT @mention RT @mention Arriving in the US for...  Positive   \n",
       "12  12  ÛÏ@mention It's not a rumor: Apple is opening...  Positive   \n",
       "13  13  Horrible repressed memories of the Apple spinn...  Negetive   \n",
       "14  14  @mention saw a man drop his iphone in a gutter...  Positive   \n",
       "15  15  RT @mention #Social Is Too Important For #Goog...  Positive   \n",
       "16  16  brace yourselves for the audio onslaught of #S...  Positive   \n",
       "17  17  #sxsw #enchantment: @mention &quot;Sell your d...  Negetive   \n",
       "18  18  Thanks to Heathcare Digital @mention for publi...  Positive   \n",
       "19  19  Tomorrow, Charles Chen will be speaking about ...  Positive   \n",
       "\n",
       "                                            clean_des  \\\n",
       "0   the web designer   s guide to ios  and android...   \n",
       "1   rt  line for ipad   is longer today than yeste...   \n",
       "2   crazy that apple is opening a temporary store ...   \n",
       "3   the lesson from google one pass  in this digit...   \n",
       "4   rt  at the panel   quot your mom has an ipad  ...   \n",
       "5   rt  i think my effing hubby is in line for an ...   \n",
       "6    quot android users are not iphone users   the...   \n",
       "7   google to launch new social network called cir...   \n",
       "8     welcome  enjoy #sxsw and ride anywhere in au...   \n",
       "9   rt  apple plans to keep austin wired  opening ...   \n",
       "10  you know it is #sxsw season when there are    ...   \n",
       "11  rt  rt  arriving in the us for #sxsw  will be ...   \n",
       "12      it's not a rumor  apple is opening up a te...   \n",
       "13  horrible repressed memories of the apple spinn...   \n",
       "14   saw a man drop his iphone in a gutter last ye...   \n",
       "15  rt  #social is too important for #google to sc...   \n",
       "16  brace yourselves for the audio onslaught of #s...   \n",
       "17  #sxsw #enchantment    quot sell your dream  st...   \n",
       "18  thanks to heathcare digital  for publishing th...   \n",
       "19  tomorrow  charles chen will be speaking about ...   \n",
       "\n",
       "                                           clean_text  \n",
       "0   web designer s guide io android app today m li...  \n",
       "1   rt line ipad long today yesterday sxsw get lin...  \n",
       "2   crazy apple open temporary store austin tomorr...  \n",
       "3   lesson google pass digital environment user wa...  \n",
       "4      rt panel quot mom ipad design boomer quot sxsw  \n",
       "5   rt think eff hubby line ipad point line wife n...  \n",
       "6   quot android user iphone user use option menu ...  \n",
       "7   google launch new social network call circle p...  \n",
       "8   welcome enjoy sxsw ride austin dwnld groundlin...  \n",
       "9   rt apple plan austin wire open pop apple store...  \n",
       "10  know sxsw season app update open iphone app store  \n",
       "11  rt rt arrive sxsw look microsim datum iphone r...  \n",
       "12  rumor apple open temporary store downtown aust...  \n",
       "13  horrible repressed memory apple spin beach bal...  \n",
       "14               see man drop iphone gutter year sxsw  \n",
       "15  rt social important google screw big launch ci...  \n",
       "16  brace audio onslaught sxsw enjoy free music sa...  \n",
       "17  sxsw enchantment quot sell dream steve job iph...  \n",
       "18  thank heathcare digital publish news new medic...  \n",
       "19  tomorrow charles chen speak android chromeo ac...  "
      ]
     },
     "execution_count": 18,
     "metadata": {},
     "output_type": "execute_result"
    }
   ],
   "source": [
    "data.head(20)"
   ]
  },
  {
   "cell_type": "code",
   "execution_count": 19,
   "id": "81d5db09",
   "metadata": {
    "executionInfo": {
     "elapsed": 52,
     "status": "ok",
     "timestamp": 1640627235047,
     "user": {
      "displayName": "Raju Gaddam",
      "photoUrl": "https://lh3.googleusercontent.com/a-/AOh14GgjdBtf41qgljAMO59VJ9ilvglL2dkZqOylInD1EPI=s64",
      "userId": "17482937853264836503"
     },
     "user_tz": -330
    },
    "id": "81d5db09"
   },
   "outputs": [],
   "source": [
    "# remove short words (length < 2)\n",
    "data['clean_text'] = data['clean_text'].apply(lambda x: ' '.join([w for w in x.split() if len(w)>2]))"
   ]
  },
  {
   "cell_type": "code",
   "execution_count": 20,
   "id": "6fe8b999",
   "metadata": {
    "colab": {
     "base_uri": "https://localhost:8080/",
     "height": 946
    },
    "executionInfo": {
     "elapsed": 55,
     "status": "ok",
     "timestamp": 1640627235051,
     "user": {
      "displayName": "Raju Gaddam",
      "photoUrl": "https://lh3.googleusercontent.com/a-/AOh14GgjdBtf41qgljAMO59VJ9ilvglL2dkZqOylInD1EPI=s64",
      "userId": "17482937853264836503"
     },
     "user_tz": -330
    },
    "id": "6fe8b999",
    "outputId": "932db7b5-f75c-492c-ce3a-40edaf134155"
   },
   "outputs": [
    {
     "data": {
      "text/html": [
       "<div>\n",
       "<style scoped>\n",
       "    .dataframe tbody tr th:only-of-type {\n",
       "        vertical-align: middle;\n",
       "    }\n",
       "\n",
       "    .dataframe tbody tr th {\n",
       "        vertical-align: top;\n",
       "    }\n",
       "\n",
       "    .dataframe thead th {\n",
       "        text-align: right;\n",
       "    }\n",
       "</style>\n",
       "<table border=\"1\" class=\"dataframe\">\n",
       "  <thead>\n",
       "    <tr style=\"text-align: right;\">\n",
       "      <th></th>\n",
       "      <th>id</th>\n",
       "      <th>Product_Description</th>\n",
       "      <th>Sentiment</th>\n",
       "      <th>clean_des</th>\n",
       "      <th>clean_text</th>\n",
       "    </tr>\n",
       "  </thead>\n",
       "  <tbody>\n",
       "    <tr>\n",
       "      <th>0</th>\n",
       "      <td>0</td>\n",
       "      <td>The Web DesignerÛªs Guide to iOS (and Android...</td>\n",
       "      <td>Positive</td>\n",
       "      <td>the web designer   s guide to ios  and android...</td>\n",
       "      <td>web designer guide android app today link sxsw</td>\n",
       "    </tr>\n",
       "    <tr>\n",
       "      <th>1</th>\n",
       "      <td>1</td>\n",
       "      <td>RT @mention Line for iPad 2 is longer today th...</td>\n",
       "      <td>Positive</td>\n",
       "      <td>rt  line for ipad   is longer today than yeste...</td>\n",
       "      <td>line ipad long today yesterday sxsw get line t...</td>\n",
       "    </tr>\n",
       "    <tr>\n",
       "      <th>2</th>\n",
       "      <td>2</td>\n",
       "      <td>Crazy that Apple is opening a temporary store ...</td>\n",
       "      <td>Positive</td>\n",
       "      <td>crazy that apple is opening a temporary store ...</td>\n",
       "      <td>crazy apple open temporary store austin tomorr...</td>\n",
       "    </tr>\n",
       "    <tr>\n",
       "      <th>3</th>\n",
       "      <td>3</td>\n",
       "      <td>The lesson from Google One Pass: In this digit...</td>\n",
       "      <td>Positive</td>\n",
       "      <td>the lesson from google one pass  in this digit...</td>\n",
       "      <td>lesson google pass digital environment user wa...</td>\n",
       "    </tr>\n",
       "    <tr>\n",
       "      <th>4</th>\n",
       "      <td>4</td>\n",
       "      <td>RT @mention At the panel: &amp;quot;Your mom has a...</td>\n",
       "      <td>Positive</td>\n",
       "      <td>rt  at the panel   quot your mom has an ipad  ...</td>\n",
       "      <td>panel quot mom ipad design boomer quot sxsw</td>\n",
       "    </tr>\n",
       "    <tr>\n",
       "      <th>5</th>\n",
       "      <td>5</td>\n",
       "      <td>RT @mention I think my effing hubby is in line...</td>\n",
       "      <td>Negetive</td>\n",
       "      <td>rt  i think my effing hubby is in line for an ...</td>\n",
       "      <td>think eff hubby line ipad point line wife numb...</td>\n",
       "    </tr>\n",
       "    <tr>\n",
       "      <th>6</th>\n",
       "      <td>6</td>\n",
       "      <td>&amp;quot;Android users are not iPhone users. (The...</td>\n",
       "      <td>Positive</td>\n",
       "      <td>quot android users are not iphone users   the...</td>\n",
       "      <td>quot android user iphone user use option menu ...</td>\n",
       "    </tr>\n",
       "    <tr>\n",
       "      <th>7</th>\n",
       "      <td>7</td>\n",
       "      <td>Google to Launch New Social Network Called Cir...</td>\n",
       "      <td>Positive</td>\n",
       "      <td>google to launch new social network called cir...</td>\n",
       "      <td>google launch new social network call circle p...</td>\n",
       "    </tr>\n",
       "    <tr>\n",
       "      <th>8</th>\n",
       "      <td>8</td>\n",
       "      <td>@mention  Welcome! Enjoy #Sxsw and ride anywhe...</td>\n",
       "      <td>Positive</td>\n",
       "      <td>welcome  enjoy #sxsw and ride anywhere in au...</td>\n",
       "      <td>welcome enjoy sxsw ride austin dwnld groundlin...</td>\n",
       "    </tr>\n",
       "    <tr>\n",
       "      <th>9</th>\n",
       "      <td>9</td>\n",
       "      <td>RT @mention Apple plans to Keep Austin Wired, ...</td>\n",
       "      <td>Positive</td>\n",
       "      <td>rt  apple plans to keep austin wired  opening ...</td>\n",
       "      <td>apple plan austin wire open pop apple store sx...</td>\n",
       "    </tr>\n",
       "    <tr>\n",
       "      <th>10</th>\n",
       "      <td>10</td>\n",
       "      <td>You know it is #SXSW season when there are 10 ...</td>\n",
       "      <td>Positive</td>\n",
       "      <td>you know it is #sxsw season when there are    ...</td>\n",
       "      <td>know sxsw season app update open iphone app store</td>\n",
       "    </tr>\n",
       "    <tr>\n",
       "      <th>11</th>\n",
       "      <td>11</td>\n",
       "      <td>RT @mention RT @mention Arriving in the US for...</td>\n",
       "      <td>Positive</td>\n",
       "      <td>rt  rt  arriving in the us for #sxsw  will be ...</td>\n",
       "      <td>arrive sxsw look microsim datum iphone recomme...</td>\n",
       "    </tr>\n",
       "    <tr>\n",
       "      <th>12</th>\n",
       "      <td>12</td>\n",
       "      <td>ÛÏ@mention It's not a rumor: Apple is opening...</td>\n",
       "      <td>Positive</td>\n",
       "      <td>it's not a rumor  apple is opening up a te...</td>\n",
       "      <td>rumor apple open temporary store downtown aust...</td>\n",
       "    </tr>\n",
       "    <tr>\n",
       "      <th>13</th>\n",
       "      <td>13</td>\n",
       "      <td>Horrible repressed memories of the Apple spinn...</td>\n",
       "      <td>Negetive</td>\n",
       "      <td>horrible repressed memories of the apple spinn...</td>\n",
       "      <td>horrible repressed memory apple spin beach bal...</td>\n",
       "    </tr>\n",
       "    <tr>\n",
       "      <th>14</th>\n",
       "      <td>14</td>\n",
       "      <td>@mention saw a man drop his iphone in a gutter...</td>\n",
       "      <td>Positive</td>\n",
       "      <td>saw a man drop his iphone in a gutter last ye...</td>\n",
       "      <td>see man drop iphone gutter year sxsw</td>\n",
       "    </tr>\n",
       "    <tr>\n",
       "      <th>15</th>\n",
       "      <td>15</td>\n",
       "      <td>RT @mention #Social Is Too Important For #Goog...</td>\n",
       "      <td>Positive</td>\n",
       "      <td>rt  #social is too important for #google to sc...</td>\n",
       "      <td>social important google screw big launch circu...</td>\n",
       "    </tr>\n",
       "    <tr>\n",
       "      <th>16</th>\n",
       "      <td>16</td>\n",
       "      <td>brace yourselves for the audio onslaught of #S...</td>\n",
       "      <td>Positive</td>\n",
       "      <td>brace yourselves for the audio onslaught of #s...</td>\n",
       "      <td>brace audio onslaught sxsw enjoy free music sa...</td>\n",
       "    </tr>\n",
       "    <tr>\n",
       "      <th>17</th>\n",
       "      <td>17</td>\n",
       "      <td>#sxsw #enchantment: @mention &amp;quot;Sell your d...</td>\n",
       "      <td>Negetive</td>\n",
       "      <td>#sxsw #enchantment    quot sell your dream  st...</td>\n",
       "      <td>sxsw enchantment quot sell dream steve job iph...</td>\n",
       "    </tr>\n",
       "    <tr>\n",
       "      <th>18</th>\n",
       "      <td>18</td>\n",
       "      <td>Thanks to Heathcare Digital @mention for publi...</td>\n",
       "      <td>Positive</td>\n",
       "      <td>thanks to heathcare digital  for publishing th...</td>\n",
       "      <td>thank heathcare digital publish news new medic...</td>\n",
       "    </tr>\n",
       "    <tr>\n",
       "      <th>19</th>\n",
       "      <td>19</td>\n",
       "      <td>Tomorrow, Charles Chen will be speaking about ...</td>\n",
       "      <td>Positive</td>\n",
       "      <td>tomorrow  charles chen will be speaking about ...</td>\n",
       "      <td>tomorrow charles chen speak android chromeo ac...</td>\n",
       "    </tr>\n",
       "  </tbody>\n",
       "</table>\n",
       "</div>"
      ],
      "text/plain": [
       "    id                                Product_Description Sentiment  \\\n",
       "0    0  The Web DesignerÛªs Guide to iOS (and Android...  Positive   \n",
       "1    1  RT @mention Line for iPad 2 is longer today th...  Positive   \n",
       "2    2  Crazy that Apple is opening a temporary store ...  Positive   \n",
       "3    3  The lesson from Google One Pass: In this digit...  Positive   \n",
       "4    4  RT @mention At the panel: &quot;Your mom has a...  Positive   \n",
       "5    5  RT @mention I think my effing hubby is in line...  Negetive   \n",
       "6    6  &quot;Android users are not iPhone users. (The...  Positive   \n",
       "7    7  Google to Launch New Social Network Called Cir...  Positive   \n",
       "8    8  @mention  Welcome! Enjoy #Sxsw and ride anywhe...  Positive   \n",
       "9    9  RT @mention Apple plans to Keep Austin Wired, ...  Positive   \n",
       "10  10  You know it is #SXSW season when there are 10 ...  Positive   \n",
       "11  11  RT @mention RT @mention Arriving in the US for...  Positive   \n",
       "12  12  ÛÏ@mention It's not a rumor: Apple is opening...  Positive   \n",
       "13  13  Horrible repressed memories of the Apple spinn...  Negetive   \n",
       "14  14  @mention saw a man drop his iphone in a gutter...  Positive   \n",
       "15  15  RT @mention #Social Is Too Important For #Goog...  Positive   \n",
       "16  16  brace yourselves for the audio onslaught of #S...  Positive   \n",
       "17  17  #sxsw #enchantment: @mention &quot;Sell your d...  Negetive   \n",
       "18  18  Thanks to Heathcare Digital @mention for publi...  Positive   \n",
       "19  19  Tomorrow, Charles Chen will be speaking about ...  Positive   \n",
       "\n",
       "                                            clean_des  \\\n",
       "0   the web designer   s guide to ios  and android...   \n",
       "1   rt  line for ipad   is longer today than yeste...   \n",
       "2   crazy that apple is opening a temporary store ...   \n",
       "3   the lesson from google one pass  in this digit...   \n",
       "4   rt  at the panel   quot your mom has an ipad  ...   \n",
       "5   rt  i think my effing hubby is in line for an ...   \n",
       "6    quot android users are not iphone users   the...   \n",
       "7   google to launch new social network called cir...   \n",
       "8     welcome  enjoy #sxsw and ride anywhere in au...   \n",
       "9   rt  apple plans to keep austin wired  opening ...   \n",
       "10  you know it is #sxsw season when there are    ...   \n",
       "11  rt  rt  arriving in the us for #sxsw  will be ...   \n",
       "12      it's not a rumor  apple is opening up a te...   \n",
       "13  horrible repressed memories of the apple spinn...   \n",
       "14   saw a man drop his iphone in a gutter last ye...   \n",
       "15  rt  #social is too important for #google to sc...   \n",
       "16  brace yourselves for the audio onslaught of #s...   \n",
       "17  #sxsw #enchantment    quot sell your dream  st...   \n",
       "18  thanks to heathcare digital  for publishing th...   \n",
       "19  tomorrow  charles chen will be speaking about ...   \n",
       "\n",
       "                                           clean_text  \n",
       "0      web designer guide android app today link sxsw  \n",
       "1   line ipad long today yesterday sxsw get line t...  \n",
       "2   crazy apple open temporary store austin tomorr...  \n",
       "3   lesson google pass digital environment user wa...  \n",
       "4         panel quot mom ipad design boomer quot sxsw  \n",
       "5   think eff hubby line ipad point line wife numb...  \n",
       "6   quot android user iphone user use option menu ...  \n",
       "7   google launch new social network call circle p...  \n",
       "8   welcome enjoy sxsw ride austin dwnld groundlin...  \n",
       "9   apple plan austin wire open pop apple store sx...  \n",
       "10  know sxsw season app update open iphone app store  \n",
       "11  arrive sxsw look microsim datum iphone recomme...  \n",
       "12  rumor apple open temporary store downtown aust...  \n",
       "13  horrible repressed memory apple spin beach bal...  \n",
       "14               see man drop iphone gutter year sxsw  \n",
       "15  social important google screw big launch circu...  \n",
       "16  brace audio onslaught sxsw enjoy free music sa...  \n",
       "17  sxsw enchantment quot sell dream steve job iph...  \n",
       "18  thank heathcare digital publish news new medic...  \n",
       "19  tomorrow charles chen speak android chromeo ac...  "
      ]
     },
     "execution_count": 20,
     "metadata": {},
     "output_type": "execute_result"
    }
   ],
   "source": [
    "data.head(20)"
   ]
  },
  {
   "cell_type": "code",
   "execution_count": 24,
   "id": "8696aad3",
   "metadata": {
    "colab": {
     "base_uri": "https://localhost:8080/"
    },
    "executionInfo": {
     "elapsed": 51,
     "status": "ok",
     "timestamp": 1640627235052,
     "user": {
      "displayName": "Raju Gaddam",
      "photoUrl": "https://lh3.googleusercontent.com/a-/AOh14GgjdBtf41qgljAMO59VJ9ilvglL2dkZqOylInD1EPI=s64",
      "userId": "17482937853264836503"
     },
     "user_tz": -330
    },
    "id": "8696aad3",
    "outputId": "f7b131a9-7a33-4178-ee5d-387911c1aa2b"
   },
   "outputs": [
    {
     "data": {
      "text/plain": [
       "id                        int64\n",
       "Product_Description      object\n",
       "Sentiment                object\n",
       "clean_des                object\n",
       "clean_text             category\n",
       "dtype: object"
      ]
     },
     "execution_count": 24,
     "metadata": {},
     "output_type": "execute_result"
    }
   ],
   "source": [
    "data.dtypes"
   ]
  },
  {
   "cell_type": "code",
   "execution_count": 29,
   "id": "37067b7f",
   "metadata": {
    "executionInfo": {
     "elapsed": 46,
     "status": "ok",
     "timestamp": 1640627235056,
     "user": {
      "displayName": "Raju Gaddam",
      "photoUrl": "https://lh3.googleusercontent.com/a-/AOh14GgjdBtf41qgljAMO59VJ9ilvglL2dkZqOylInD1EPI=s64",
      "userId": "17482937853264836503"
     },
     "user_tz": -330
    },
    "id": "37067b7f"
   },
   "outputs": [],
   "source": [
    "data[\"clean_text\"] = data[\"clean_text\"].astype(\"category\")\n",
    "data[\"Sentiment\"] = data[\"Sentiment\"].astype(\"category\")"
   ]
  },
  {
   "cell_type": "code",
   "execution_count": 30,
   "id": "61e7a1e2",
   "metadata": {
    "colab": {
     "base_uri": "https://localhost:8080/"
    },
    "executionInfo": {
     "elapsed": 47,
     "status": "ok",
     "timestamp": 1640627235058,
     "user": {
      "displayName": "Raju Gaddam",
      "photoUrl": "https://lh3.googleusercontent.com/a-/AOh14GgjdBtf41qgljAMO59VJ9ilvglL2dkZqOylInD1EPI=s64",
      "userId": "17482937853264836503"
     },
     "user_tz": -330
    },
    "id": "61e7a1e2",
    "outputId": "57b5f778-a792-421f-bf6e-6558a3e30c0c"
   },
   "outputs": [
    {
     "data": {
      "text/plain": [
       "id                        int64\n",
       "Product_Description      object\n",
       "Sentiment              category\n",
       "clean_des                object\n",
       "clean_text             category\n",
       "dtype: object"
      ]
     },
     "execution_count": 30,
     "metadata": {},
     "output_type": "execute_result"
    }
   ],
   "source": [
    "data.dtypes"
   ]
  },
  {
   "cell_type": "markdown",
   "id": "5aeda14b",
   "metadata": {
    "id": "5aeda14b"
   },
   "source": [
    "#### Visualizing most frequent words using WordCloud"
   ]
  },
  {
   "cell_type": "code",
   "execution_count": 81,
   "id": "04a1614b",
   "metadata": {
    "executionInfo": {
     "elapsed": 43,
     "status": "ok",
     "timestamp": 1640627235060,
     "user": {
      "displayName": "Raju Gaddam",
      "photoUrl": "https://lh3.googleusercontent.com/a-/AOh14GgjdBtf41qgljAMO59VJ9ilvglL2dkZqOylInD1EPI=s64",
      "userId": "17482937853264836503"
     },
     "user_tz": -330
    },
    "id": "04a1614b"
   },
   "outputs": [],
   "source": [
    "#!pip install wordcloud"
   ]
  },
  {
   "cell_type": "code",
   "execution_count": 31,
   "id": "5ee671ca",
   "metadata": {
    "executionInfo": {
     "elapsed": 45,
     "status": "ok",
     "timestamp": 1640627235063,
     "user": {
      "displayName": "Raju Gaddam",
      "photoUrl": "https://lh3.googleusercontent.com/a-/AOh14GgjdBtf41qgljAMO59VJ9ilvglL2dkZqOylInD1EPI=s64",
      "userId": "17482937853264836503"
     },
     "user_tz": -330
    },
    "id": "5ee671ca"
   },
   "outputs": [],
   "source": [
    "from wordcloud import WordCloud\n",
    "import matplotlib.pyplot as plt"
   ]
  },
  {
   "cell_type": "code",
   "execution_count": 32,
   "id": "edfd5045",
   "metadata": {
    "executionInfo": {
     "elapsed": 49,
     "status": "ok",
     "timestamp": 1640627235067,
     "user": {
      "displayName": "Raju Gaddam",
      "photoUrl": "https://lh3.googleusercontent.com/a-/AOh14GgjdBtf41qgljAMO59VJ9ilvglL2dkZqOylInD1EPI=s64",
      "userId": "17482937853264836503"
     },
     "user_tz": -330
    },
    "id": "edfd5045"
   },
   "outputs": [],
   "source": [
    "Positive_review = data[data[\"Sentiment\"] == \"Positive\"][\"clean_text\"]\n",
    "Negetive_review = data[data[\"Sentiment\"] == \"Negetive\"][\"clean_text\"]"
   ]
  },
  {
   "cell_type": "code",
   "execution_count": 33,
   "id": "8f666c21",
   "metadata": {
    "colab": {
     "base_uri": "https://localhost:8080/",
     "height": 326
    },
    "executionInfo": {
     "elapsed": 1777,
     "status": "ok",
     "timestamp": 1640627236795,
     "user": {
      "displayName": "Raju Gaddam",
      "photoUrl": "https://lh3.googleusercontent.com/a-/AOh14GgjdBtf41qgljAMO59VJ9ilvglL2dkZqOylInD1EPI=s64",
      "userId": "17482937853264836503"
     },
     "user_tz": -330
    },
    "id": "8f666c21",
    "outputId": "74919581-395b-4336-d544-47e5747d5240"
   },
   "outputs": [
    {
     "data": {
      "image/png": "[encoded data removed]",
      "text/plain": [
       "<Figure size 720x576 with 1 Axes>"
      ]
     },
     "metadata": {
      "needs_background": "light"
     },
     "output_type": "display_data"
    }
   ],
   "source": [
    "wordcloud = WordCloud(max_font_size=80, max_words=30, background_color=\"red\").generate(str(Positive_review))\n",
    "plt.figure(figsize=(10,8))\n",
    "plt.imshow(wordcloud)\n",
    "plt.axis(\"off\")\n",
    "plt.title(\"Positive Comments\")\n",
    "plt.show()"
   ]
  },
  {
   "cell_type": "code",
   "execution_count": 34,
   "id": "70f8a05f",
   "metadata": {
    "colab": {
     "base_uri": "https://localhost:8080/",
     "height": 326
    },
    "executionInfo": {
     "elapsed": 119,
     "status": "ok",
     "timestamp": 1640627236802,
     "user": {
      "displayName": "Raju Gaddam",
      "photoUrl": "https://lh3.googleusercontent.com/a-/AOh14GgjdBtf41qgljAMO59VJ9ilvglL2dkZqOylInD1EPI=s64",
      "userId": "17482937853264836503"
     },
     "user_tz": -330
    },
    "id": "70f8a05f",
    "outputId": "cba45bf2-103f-42ab-8f37-a68f69a77697"
   },
   "outputs": [
    {
     "data": {
      "image/png": "[encoded data removed]",
      "text/plain": [
       "<Figure size 720x576 with 1 Axes>"
      ]
     },
     "metadata": {
      "needs_background": "light"
     },
     "output_type": "display_data"
    }
   ],
   "source": [
    "wordcloud = WordCloud(max_font_size=80, max_words=30, background_color=\"gray\").generate(str(Negetive_review))\n",
    "plt.figure(figsize=(10,8))\n",
    "plt.imshow(wordcloud)\n",
    "plt.axis(\"off\")\n",
    "plt.title(\"Negative Comments\")\n",
    "plt.show()"
   ]
  },
  {
   "cell_type": "markdown",
   "id": "c129a49d",
   "metadata": {
    "id": "c129a49d"
   },
   "source": [
    "#### label encoding the target variable"
   ]
  },
  {
   "cell_type": "code",
   "execution_count": 35,
   "id": "64299ed9",
   "metadata": {
    "colab": {
     "base_uri": "https://localhost:8080/",
     "height": 250
    },
    "executionInfo": {
     "elapsed": 107,
     "status": "ok",
     "timestamp": 1640627236806,
     "user": {
      "displayName": "Raju Gaddam",
      "photoUrl": "https://lh3.googleusercontent.com/a-/AOh14GgjdBtf41qgljAMO59VJ9ilvglL2dkZqOylInD1EPI=s64",
      "userId": "17482937853264836503"
     },
     "user_tz": -330
    },
    "id": "64299ed9",
    "outputId": "69629ae9-4d8b-4981-ab7d-7d5df29812cc"
   },
   "outputs": [
    {
     "data": {
      "text/html": [
       "<div>\n",
       "<style scoped>\n",
       "    .dataframe tbody tr th:only-of-type {\n",
       "        vertical-align: middle;\n",
       "    }\n",
       "\n",
       "    .dataframe tbody tr th {\n",
       "        vertical-align: top;\n",
       "    }\n",
       "\n",
       "    .dataframe thead th {\n",
       "        text-align: right;\n",
       "    }\n",
       "</style>\n",
       "<table border=\"1\" class=\"dataframe\">\n",
       "  <thead>\n",
       "    <tr style=\"text-align: right;\">\n",
       "      <th></th>\n",
       "      <th>id</th>\n",
       "      <th>Product_Description</th>\n",
       "      <th>Sentiment</th>\n",
       "      <th>clean_des</th>\n",
       "      <th>clean_text</th>\n",
       "    </tr>\n",
       "  </thead>\n",
       "  <tbody>\n",
       "    <tr>\n",
       "      <th>0</th>\n",
       "      <td>0</td>\n",
       "      <td>The Web DesignerÛªs Guide to iOS (and Android...</td>\n",
       "      <td>Positive</td>\n",
       "      <td>the web designer   s guide to ios  and android...</td>\n",
       "      <td>web designer guide android app today link sxsw</td>\n",
       "    </tr>\n",
       "    <tr>\n",
       "      <th>1</th>\n",
       "      <td>1</td>\n",
       "      <td>RT @mention Line for iPad 2 is longer today th...</td>\n",
       "      <td>Positive</td>\n",
       "      <td>rt  line for ipad   is longer today than yeste...</td>\n",
       "      <td>line ipad long today yesterday sxsw get line t...</td>\n",
       "    </tr>\n",
       "    <tr>\n",
       "      <th>2</th>\n",
       "      <td>2</td>\n",
       "      <td>Crazy that Apple is opening a temporary store ...</td>\n",
       "      <td>Positive</td>\n",
       "      <td>crazy that apple is opening a temporary store ...</td>\n",
       "      <td>crazy apple open temporary store austin tomorr...</td>\n",
       "    </tr>\n",
       "    <tr>\n",
       "      <th>3</th>\n",
       "      <td>3</td>\n",
       "      <td>The lesson from Google One Pass: In this digit...</td>\n",
       "      <td>Positive</td>\n",
       "      <td>the lesson from google one pass  in this digit...</td>\n",
       "      <td>lesson google pass digital environment user wa...</td>\n",
       "    </tr>\n",
       "    <tr>\n",
       "      <th>4</th>\n",
       "      <td>4</td>\n",
       "      <td>RT @mention At the panel: &amp;quot;Your mom has a...</td>\n",
       "      <td>Positive</td>\n",
       "      <td>rt  at the panel   quot your mom has an ipad  ...</td>\n",
       "      <td>panel quot mom ipad design boomer quot sxsw</td>\n",
       "    </tr>\n",
       "  </tbody>\n",
       "</table>\n",
       "</div>"
      ],
      "text/plain": [
       "   id                                Product_Description Sentiment  \\\n",
       "0   0  The Web DesignerÛªs Guide to iOS (and Android...  Positive   \n",
       "1   1  RT @mention Line for iPad 2 is longer today th...  Positive   \n",
       "2   2  Crazy that Apple is opening a temporary store ...  Positive   \n",
       "3   3  The lesson from Google One Pass: In this digit...  Positive   \n",
       "4   4  RT @mention At the panel: &quot;Your mom has a...  Positive   \n",
       "\n",
       "                                           clean_des  \\\n",
       "0  the web designer   s guide to ios  and android...   \n",
       "1  rt  line for ipad   is longer today than yeste...   \n",
       "2  crazy that apple is opening a temporary store ...   \n",
       "3  the lesson from google one pass  in this digit...   \n",
       "4  rt  at the panel   quot your mom has an ipad  ...   \n",
       "\n",
       "                                          clean_text  \n",
       "0     web designer guide android app today link sxsw  \n",
       "1  line ipad long today yesterday sxsw get line t...  \n",
       "2  crazy apple open temporary store austin tomorr...  \n",
       "3  lesson google pass digital environment user wa...  \n",
       "4        panel quot mom ipad design boomer quot sxsw  "
      ]
     },
     "execution_count": 35,
     "metadata": {},
     "output_type": "execute_result"
    }
   ],
   "source": [
    "data.head()"
   ]
  },
  {
   "cell_type": "code",
   "execution_count": 36,
   "id": "03656663",
   "metadata": {
    "executionInfo": {
     "elapsed": 103,
     "status": "ok",
     "timestamp": 1640627236810,
     "user": {
      "displayName": "Raju Gaddam",
      "photoUrl": "https://lh3.googleusercontent.com/a-/AOh14GgjdBtf41qgljAMO59VJ9ilvglL2dkZqOylInD1EPI=s64",
      "userId": "17482937853264836503"
     },
     "user_tz": -330
    },
    "id": "03656663"
   },
   "outputs": [],
   "source": [
    "#label encoding the target variable\n",
    "from sklearn.preprocessing import OneHotEncoder,LabelEncoder\n",
    "le = LabelEncoder()\n",
    "le.fit(data[\"Sentiment\"])\n",
    "data[\"Sentiment\"] = le.transform(data[\"Sentiment\"])"
   ]
  },
  {
   "cell_type": "code",
   "execution_count": 37,
   "id": "18d0b291",
   "metadata": {
    "colab": {
     "base_uri": "https://localhost:8080/",
     "height": 946
    },
    "executionInfo": {
     "elapsed": 104,
     "status": "ok",
     "timestamp": 1640627236813,
     "user": {
      "displayName": "Raju Gaddam",
      "photoUrl": "https://lh3.googleusercontent.com/a-/AOh14GgjdBtf41qgljAMO59VJ9ilvglL2dkZqOylInD1EPI=s64",
      "userId": "17482937853264836503"
     },
     "user_tz": -330
    },
    "id": "18d0b291",
    "outputId": "3d04ceb2-05e3-4924-c207-105056e5dbcc"
   },
   "outputs": [
    {
     "data": {
      "text/html": [
       "<div>\n",
       "<style scoped>\n",
       "    .dataframe tbody tr th:only-of-type {\n",
       "        vertical-align: middle;\n",
       "    }\n",
       "\n",
       "    .dataframe tbody tr th {\n",
       "        vertical-align: top;\n",
       "    }\n",
       "\n",
       "    .dataframe thead th {\n",
       "        text-align: right;\n",
       "    }\n",
       "</style>\n",
       "<table border=\"1\" class=\"dataframe\">\n",
       "  <thead>\n",
       "    <tr style=\"text-align: right;\">\n",
       "      <th></th>\n",
       "      <th>id</th>\n",
       "      <th>Product_Description</th>\n",
       "      <th>Sentiment</th>\n",
       "      <th>clean_des</th>\n",
       "      <th>clean_text</th>\n",
       "    </tr>\n",
       "  </thead>\n",
       "  <tbody>\n",
       "    <tr>\n",
       "      <th>0</th>\n",
       "      <td>0</td>\n",
       "      <td>The Web DesignerÛªs Guide to iOS (and Android...</td>\n",
       "      <td>1</td>\n",
       "      <td>the web designer   s guide to ios  and android...</td>\n",
       "      <td>web designer guide android app today link sxsw</td>\n",
       "    </tr>\n",
       "    <tr>\n",
       "      <th>1</th>\n",
       "      <td>1</td>\n",
       "      <td>RT @mention Line for iPad 2 is longer today th...</td>\n",
       "      <td>1</td>\n",
       "      <td>rt  line for ipad   is longer today than yeste...</td>\n",
       "      <td>line ipad long today yesterday sxsw get line t...</td>\n",
       "    </tr>\n",
       "    <tr>\n",
       "      <th>2</th>\n",
       "      <td>2</td>\n",
       "      <td>Crazy that Apple is opening a temporary store ...</td>\n",
       "      <td>1</td>\n",
       "      <td>crazy that apple is opening a temporary store ...</td>\n",
       "      <td>crazy apple open temporary store austin tomorr...</td>\n",
       "    </tr>\n",
       "    <tr>\n",
       "      <th>3</th>\n",
       "      <td>3</td>\n",
       "      <td>The lesson from Google One Pass: In this digit...</td>\n",
       "      <td>1</td>\n",
       "      <td>the lesson from google one pass  in this digit...</td>\n",
       "      <td>lesson google pass digital environment user wa...</td>\n",
       "    </tr>\n",
       "    <tr>\n",
       "      <th>4</th>\n",
       "      <td>4</td>\n",
       "      <td>RT @mention At the panel: &amp;quot;Your mom has a...</td>\n",
       "      <td>1</td>\n",
       "      <td>rt  at the panel   quot your mom has an ipad  ...</td>\n",
       "      <td>panel quot mom ipad design boomer quot sxsw</td>\n",
       "    </tr>\n",
       "    <tr>\n",
       "      <th>5</th>\n",
       "      <td>5</td>\n",
       "      <td>RT @mention I think my effing hubby is in line...</td>\n",
       "      <td>0</td>\n",
       "      <td>rt  i think my effing hubby is in line for an ...</td>\n",
       "      <td>think eff hubby line ipad point line wife numb...</td>\n",
       "    </tr>\n",
       "    <tr>\n",
       "      <th>6</th>\n",
       "      <td>6</td>\n",
       "      <td>&amp;quot;Android users are not iPhone users. (The...</td>\n",
       "      <td>1</td>\n",
       "      <td>quot android users are not iphone users   the...</td>\n",
       "      <td>quot android user iphone user use option menu ...</td>\n",
       "    </tr>\n",
       "    <tr>\n",
       "      <th>7</th>\n",
       "      <td>7</td>\n",
       "      <td>Google to Launch New Social Network Called Cir...</td>\n",
       "      <td>1</td>\n",
       "      <td>google to launch new social network called cir...</td>\n",
       "      <td>google launch new social network call circle p...</td>\n",
       "    </tr>\n",
       "    <tr>\n",
       "      <th>8</th>\n",
       "      <td>8</td>\n",
       "      <td>@mention  Welcome! Enjoy #Sxsw and ride anywhe...</td>\n",
       "      <td>1</td>\n",
       "      <td>welcome  enjoy #sxsw and ride anywhere in au...</td>\n",
       "      <td>welcome enjoy sxsw ride austin dwnld groundlin...</td>\n",
       "    </tr>\n",
       "    <tr>\n",
       "      <th>9</th>\n",
       "      <td>9</td>\n",
       "      <td>RT @mention Apple plans to Keep Austin Wired, ...</td>\n",
       "      <td>1</td>\n",
       "      <td>rt  apple plans to keep austin wired  opening ...</td>\n",
       "      <td>apple plan austin wire open pop apple store sx...</td>\n",
       "    </tr>\n",
       "    <tr>\n",
       "      <th>10</th>\n",
       "      <td>10</td>\n",
       "      <td>You know it is #SXSW season when there are 10 ...</td>\n",
       "      <td>1</td>\n",
       "      <td>you know it is #sxsw season when there are    ...</td>\n",
       "      <td>know sxsw season app update open iphone app store</td>\n",
       "    </tr>\n",
       "    <tr>\n",
       "      <th>11</th>\n",
       "      <td>11</td>\n",
       "      <td>RT @mention RT @mention Arriving in the US for...</td>\n",
       "      <td>1</td>\n",
       "      <td>rt  rt  arriving in the us for #sxsw  will be ...</td>\n",
       "      <td>arrive sxsw look microsim datum iphone recomme...</td>\n",
       "    </tr>\n",
       "    <tr>\n",
       "      <th>12</th>\n",
       "      <td>12</td>\n",
       "      <td>ÛÏ@mention It's not a rumor: Apple is opening...</td>\n",
       "      <td>1</td>\n",
       "      <td>it's not a rumor  apple is opening up a te...</td>\n",
       "      <td>rumor apple open temporary store downtown aust...</td>\n",
       "    </tr>\n",
       "    <tr>\n",
       "      <th>13</th>\n",
       "      <td>13</td>\n",
       "      <td>Horrible repressed memories of the Apple spinn...</td>\n",
       "      <td>0</td>\n",
       "      <td>horrible repressed memories of the apple spinn...</td>\n",
       "      <td>horrible repressed memory apple spin beach bal...</td>\n",
       "    </tr>\n",
       "    <tr>\n",
       "      <th>14</th>\n",
       "      <td>14</td>\n",
       "      <td>@mention saw a man drop his iphone in a gutter...</td>\n",
       "      <td>1</td>\n",
       "      <td>saw a man drop his iphone in a gutter last ye...</td>\n",
       "      <td>see man drop iphone gutter year sxsw</td>\n",
       "    </tr>\n",
       "    <tr>\n",
       "      <th>15</th>\n",
       "      <td>15</td>\n",
       "      <td>RT @mention #Social Is Too Important For #Goog...</td>\n",
       "      <td>1</td>\n",
       "      <td>rt  #social is too important for #google to sc...</td>\n",
       "      <td>social important google screw big launch circu...</td>\n",
       "    </tr>\n",
       "    <tr>\n",
       "      <th>16</th>\n",
       "      <td>16</td>\n",
       "      <td>brace yourselves for the audio onslaught of #S...</td>\n",
       "      <td>1</td>\n",
       "      <td>brace yourselves for the audio onslaught of #s...</td>\n",
       "      <td>brace audio onslaught sxsw enjoy free music sa...</td>\n",
       "    </tr>\n",
       "    <tr>\n",
       "      <th>17</th>\n",
       "      <td>17</td>\n",
       "      <td>#sxsw #enchantment: @mention &amp;quot;Sell your d...</td>\n",
       "      <td>0</td>\n",
       "      <td>#sxsw #enchantment    quot sell your dream  st...</td>\n",
       "      <td>sxsw enchantment quot sell dream steve job iph...</td>\n",
       "    </tr>\n",
       "    <tr>\n",
       "      <th>18</th>\n",
       "      <td>18</td>\n",
       "      <td>Thanks to Heathcare Digital @mention for publi...</td>\n",
       "      <td>1</td>\n",
       "      <td>thanks to heathcare digital  for publishing th...</td>\n",
       "      <td>thank heathcare digital publish news new medic...</td>\n",
       "    </tr>\n",
       "    <tr>\n",
       "      <th>19</th>\n",
       "      <td>19</td>\n",
       "      <td>Tomorrow, Charles Chen will be speaking about ...</td>\n",
       "      <td>1</td>\n",
       "      <td>tomorrow  charles chen will be speaking about ...</td>\n",
       "      <td>tomorrow charles chen speak android chromeo ac...</td>\n",
       "    </tr>\n",
       "  </tbody>\n",
       "</table>\n",
       "</div>"
      ],
      "text/plain": [
       "    id                                Product_Description  Sentiment  \\\n",
       "0    0  The Web DesignerÛªs Guide to iOS (and Android...          1   \n",
       "1    1  RT @mention Line for iPad 2 is longer today th...          1   \n",
       "2    2  Crazy that Apple is opening a temporary store ...          1   \n",
       "3    3  The lesson from Google One Pass: In this digit...          1   \n",
       "4    4  RT @mention At the panel: &quot;Your mom has a...          1   \n",
       "5    5  RT @mention I think my effing hubby is in line...          0   \n",
       "6    6  &quot;Android users are not iPhone users. (The...          1   \n",
       "7    7  Google to Launch New Social Network Called Cir...          1   \n",
       "8    8  @mention  Welcome! Enjoy #Sxsw and ride anywhe...          1   \n",
       "9    9  RT @mention Apple plans to Keep Austin Wired, ...          1   \n",
       "10  10  You know it is #SXSW season when there are 10 ...          1   \n",
       "11  11  RT @mention RT @mention Arriving in the US for...          1   \n",
       "12  12  ÛÏ@mention It's not a rumor: Apple is opening...          1   \n",
       "13  13  Horrible repressed memories of the Apple spinn...          0   \n",
       "14  14  @mention saw a man drop his iphone in a gutter...          1   \n",
       "15  15  RT @mention #Social Is Too Important For #Goog...          1   \n",
       "16  16  brace yourselves for the audio onslaught of #S...          1   \n",
       "17  17  #sxsw #enchantment: @mention &quot;Sell your d...          0   \n",
       "18  18  Thanks to Heathcare Digital @mention for publi...          1   \n",
       "19  19  Tomorrow, Charles Chen will be speaking about ...          1   \n",
       "\n",
       "                                            clean_des  \\\n",
       "0   the web designer   s guide to ios  and android...   \n",
       "1   rt  line for ipad   is longer today than yeste...   \n",
       "2   crazy that apple is opening a temporary store ...   \n",
       "3   the lesson from google one pass  in this digit...   \n",
       "4   rt  at the panel   quot your mom has an ipad  ...   \n",
       "5   rt  i think my effing hubby is in line for an ...   \n",
       "6    quot android users are not iphone users   the...   \n",
       "7   google to launch new social network called cir...   \n",
       "8     welcome  enjoy #sxsw and ride anywhere in au...   \n",
       "9   rt  apple plans to keep austin wired  opening ...   \n",
       "10  you know it is #sxsw season when there are    ...   \n",
       "11  rt  rt  arriving in the us for #sxsw  will be ...   \n",
       "12      it's not a rumor  apple is opening up a te...   \n",
       "13  horrible repressed memories of the apple spinn...   \n",
       "14   saw a man drop his iphone in a gutter last ye...   \n",
       "15  rt  #social is too important for #google to sc...   \n",
       "16  brace yourselves for the audio onslaught of #s...   \n",
       "17  #sxsw #enchantment    quot sell your dream  st...   \n",
       "18  thanks to heathcare digital  for publishing th...   \n",
       "19  tomorrow  charles chen will be speaking about ...   \n",
       "\n",
       "                                           clean_text  \n",
       "0      web designer guide android app today link sxsw  \n",
       "1   line ipad long today yesterday sxsw get line t...  \n",
       "2   crazy apple open temporary store austin tomorr...  \n",
       "3   lesson google pass digital environment user wa...  \n",
       "4         panel quot mom ipad design boomer quot sxsw  \n",
       "5   think eff hubby line ipad point line wife numb...  \n",
       "6   quot android user iphone user use option menu ...  \n",
       "7   google launch new social network call circle p...  \n",
       "8   welcome enjoy sxsw ride austin dwnld groundlin...  \n",
       "9   apple plan austin wire open pop apple store sx...  \n",
       "10  know sxsw season app update open iphone app store  \n",
       "11  arrive sxsw look microsim datum iphone recomme...  \n",
       "12  rumor apple open temporary store downtown aust...  \n",
       "13  horrible repressed memory apple spin beach bal...  \n",
       "14               see man drop iphone gutter year sxsw  \n",
       "15  social important google screw big launch circu...  \n",
       "16  brace audio onslaught sxsw enjoy free music sa...  \n",
       "17  sxsw enchantment quot sell dream steve job iph...  \n",
       "18  thank heathcare digital publish news new medic...  \n",
       "19  tomorrow charles chen speak android chromeo ac...  "
      ]
     },
     "execution_count": 37,
     "metadata": {},
     "output_type": "execute_result"
    }
   ],
   "source": [
    "data.head(20)"
   ]
  },
  {
   "cell_type": "code",
   "execution_count": 38,
   "id": "c91bff73",
   "metadata": {
    "executionInfo": {
     "elapsed": 96,
     "status": "ok",
     "timestamp": 1640627236815,
     "user": {
      "displayName": "Raju Gaddam",
      "photoUrl": "https://lh3.googleusercontent.com/a-/AOh14GgjdBtf41qgljAMO59VJ9ilvglL2dkZqOylInD1EPI=s64",
      "userId": "17482937853264836503"
     },
     "user_tz": -330
    },
    "id": "c91bff73"
   },
   "outputs": [],
   "source": [
    "#Sentiment \"1\" means \"Positive\"\n",
    "#Sentiment \"0\" means \"Negative\""
   ]
  },
  {
   "cell_type": "code",
   "execution_count": 40,
   "id": "2_APmDg627xl",
   "metadata": {
    "colab": {
     "base_uri": "https://localhost:8080/"
    },
    "executionInfo": {
     "elapsed": 95,
     "status": "ok",
     "timestamp": 1640627236817,
     "user": {
      "displayName": "Raju Gaddam",
      "photoUrl": "https://lh3.googleusercontent.com/a-/AOh14GgjdBtf41qgljAMO59VJ9ilvglL2dkZqOylInD1EPI=s64",
      "userId": "17482937853264836503"
     },
     "user_tz": -330
    },
    "id": "2_APmDg627xl",
    "outputId": "1421e34b-65f3-4ac4-fed0-5fccfaaee21f"
   },
   "outputs": [
    {
     "name": "stdout",
     "output_type": "stream",
     "text": [
      "tweet with max length has a length of: 127\n"
     ]
    }
   ],
   "source": [
    "def max_length(tweets):\n",
    "    max_length=0\n",
    "    for tweet in tweets:\n",
    "        if max_length < len(tweet):\n",
    "            max_length = len(tweet)\n",
    "    return max_length\n",
    "\n",
    "max_length=max_length(data.clean_text)\n",
    "print(\"tweet with max length has a length of:\", max_length)"
   ]
  },
  {
   "cell_type": "code",
   "execution_count": 58,
   "id": "INOJ9tVl58rG",
   "metadata": {
    "executionInfo": {
     "elapsed": 85,
     "status": "ok",
     "timestamp": 1640627236820,
     "user": {
      "displayName": "Raju Gaddam",
      "photoUrl": "https://lh3.googleusercontent.com/a-/AOh14GgjdBtf41qgljAMO59VJ9ilvglL2dkZqOylInD1EPI=s64",
      "userId": "17482937853264836503"
     },
     "user_tz": -330
    },
    "id": "INOJ9tVl58rG"
   },
   "outputs": [],
   "source": [
    "\n",
    "import tensorflow as tf\n",
    "\n",
    "from tensorflow.keras.datasets import imdb \n",
    "from tensorflow.keras.preprocessing import sequence\n",
    "\n",
    "from tensorflow.keras.models import Model\n",
    "\n",
    "from tensorflow.keras.layers import Input, Embedding, Dense, Flatten \n",
    "from tensorflow.keras.layers import LSTM, Dropout, SimpleRNN, Bidirectional\n",
    "\n",
    "from sklearn import metrics\n",
    "from keras.layers import Dense, Input, Dropout, LSTM, Bidirectional\n",
    "from keras.callbacks import EarlyStopping,ReduceLROnPlateau, ModelCheckpoint\n",
    "from keras import regularizers"
   ]
  },
  {
   "cell_type": "code",
   "execution_count": 44,
   "id": "MDzWXZ2Y9pUS",
   "metadata": {
    "colab": {
     "base_uri": "https://localhost:8080/"
    },
    "executionInfo": {
     "elapsed": 16857,
     "status": "ok",
     "timestamp": 1640629100941,
     "user": {
      "displayName": "Raju Gaddam",
      "photoUrl": "https://lh3.googleusercontent.com/a-/AOh14GgjdBtf41qgljAMO59VJ9ilvglL2dkZqOylInD1EPI=s64",
      "userId": "17482937853264836503"
     },
     "user_tz": -330
    },
    "id": "MDzWXZ2Y9pUS",
    "outputId": "bf482789-0a87-477b-8711-1260fdca19a9"
   },
   "outputs": [
    {
     "name": "stdout",
     "output_type": "stream",
     "text": [
      "Found 400000 word vectors.\n"
     ]
    }
   ],
   "source": [
    "# Downloading pre-trained 100-dimensional glove embeddings\n",
    "\n",
    "embeddings_index = {}\n",
    "f = open('glove.6B.100d.txt',encoding='utf-8')\n",
    "for line in f:\n",
    "    values = line.split()\n",
    "    word = values[0]\n",
    "    coefs = np.asarray(values[1:], dtype='float32')\n",
    "    embeddings_index[word] = coefs\n",
    "f.close()\n",
    "\n",
    "print('Found %s word vectors.' % len(embeddings_index))\n"
   ]
  },
  {
   "cell_type": "code",
   "execution_count": 46,
   "id": "f9busOWQ9uWC",
   "metadata": {
    "executionInfo": {
     "elapsed": 20,
     "status": "ok",
     "timestamp": 1640627250041,
     "user": {
      "displayName": "Raju Gaddam",
      "photoUrl": "https://lh3.googleusercontent.com/a-/AOh14GgjdBtf41qgljAMO59VJ9ilvglL2dkZqOylInD1EPI=s64",
      "userId": "17482937853264836503"
     },
     "user_tz": -330
    },
    "id": "f9busOWQ9uWC"
   },
   "outputs": [],
   "source": [
    "MAX_NUM_WORDS = 40000 # Vocabulary size\n",
    "MAX_SEQUENCE_LENGTH = 127 # Number of time steps (at each time step one word/word vector is given as input)\n",
    "embedding_size = 100 "
   ]
  },
  {
   "cell_type": "code",
   "execution_count": 47,
   "id": "4tar3gNw-RzV",
   "metadata": {
    "colab": {
     "base_uri": "https://localhost:8080/"
    },
    "executionInfo": {
     "elapsed": 1191,
     "status": "ok",
     "timestamp": 1640627312464,
     "user": {
      "displayName": "Raju Gaddam",
      "photoUrl": "https://lh3.googleusercontent.com/a-/AOh14GgjdBtf41qgljAMO59VJ9ilvglL2dkZqOylInD1EPI=s64",
      "userId": "17482937853264836503"
     },
     "user_tz": -330
    },
    "id": "4tar3gNw-RzV",
    "outputId": "84f44af8-57d6-4b1a-a39a-16769f00688d"
   },
   "outputs": [
    {
     "name": "stdout",
     "output_type": "stream",
     "text": [
      "Found 4855 unique tokens.\n",
      "Shape of data tensor: (4164, 127)\n",
      "Shape of label tensor: (4164,)\n"
     ]
    }
   ],
   "source": [
    "# vectorize the text samples into a 2D tensor\n",
    "\n",
    "from keras.preprocessing.text import Tokenizer\n",
    "from keras.preprocessing.sequence import pad_sequences\n",
    "\n",
    "tokenizer = Tokenizer(num_words=MAX_NUM_WORDS)\n",
    "tokenizer.fit_on_texts(data.clean_text)\n",
    "sequences = tokenizer.texts_to_sequences(data.clean_text)\n",
    "\n",
    "word_index = tokenizer.word_index\n",
    "print('Found %s unique tokens.' % len(word_index))\n",
    "\n",
    "data1 = pad_sequences(sequences, maxlen=MAX_SEQUENCE_LENGTH)\n",
    "\n",
    "labels=np.asarray(data.Sentiment)\n",
    "print('Shape of data tensor:', data1.shape)\n",
    "print('Shape of label tensor:', labels.shape)"
   ]
  },
  {
   "cell_type": "code",
   "execution_count": 48,
   "id": "vq6Uyy7T_gjJ",
   "metadata": {
    "colab": {
     "base_uri": "https://localhost:8080/"
    },
    "executionInfo": {
     "elapsed": 9,
     "status": "ok",
     "timestamp": 1640627515205,
     "user": {
      "displayName": "Raju Gaddam",
      "photoUrl": "https://lh3.googleusercontent.com/a-/AOh14GgjdBtf41qgljAMO59VJ9ilvglL2dkZqOylInD1EPI=s64",
      "userId": "17482937853264836503"
     },
     "user_tz": -330
    },
    "id": "vq6Uyy7T_gjJ",
    "outputId": "43894bbd-f623-4253-fdbc-62e3500a765e"
   },
   "outputs": [
    {
     "name": "stdout",
     "output_type": "stream",
     "text": [
      "(3332, 127)\n",
      "(3332,)\n",
      "(832, 127)\n",
      "(832,)\n"
     ]
    }
   ],
   "source": [
    "indices = np.arange(data1.shape[0])\n",
    "np.random.shuffle(indices)\n",
    "data1 = data1[indices]\n",
    "labels = labels[indices]\n",
    "VALIDATION_SPLIT=0.2\n",
    "num_validation_samples = int(VALIDATION_SPLIT * data1.shape[0])\n",
    "\n",
    "X_train = data1[:-num_validation_samples]\n",
    "y_train_act = labels[:-num_validation_samples]\n",
    "X_test = data1[-num_validation_samples:]\n",
    "y_test_act = labels[-num_validation_samples:]\n",
    "\n",
    "print(X_train.shape)\n",
    "print(y_train_act.shape)\n",
    "print(X_test.shape)\n",
    "print(y_test_act.shape)"
   ]
  },
  {
   "cell_type": "markdown",
   "id": "QAaz0FFkCZ4b",
   "metadata": {
    "id": "QAaz0FFkCZ4b"
   },
   "source": [
    "##### Converting target from single value to list of 2 values (as it is binary)"
   ]
  },
  {
   "cell_type": "code",
   "execution_count": 49,
   "id": "508a19bb",
   "metadata": {},
   "outputs": [],
   "source": [
    "y_train = y_train_act.copy()\n",
    "y_test = y_test_act.copy()"
   ]
  },
  {
   "cell_type": "code",
   "execution_count": 50,
   "id": "1vK6yAkJBuyN",
   "metadata": {
    "colab": {
     "base_uri": "https://localhost:8080/"
    },
    "executionInfo": {
     "elapsed": 798,
     "status": "ok",
     "timestamp": 1640627659176,
     "user": {
      "displayName": "Raju Gaddam",
      "photoUrl": "https://lh3.googleusercontent.com/a-/AOh14GgjdBtf41qgljAMO59VJ9ilvglL2dkZqOylInD1EPI=s64",
      "userId": "17482937853264836503"
     },
     "user_tz": -330
    },
    "id": "1vK6yAkJBuyN",
    "outputId": "e6677e37-fd30-433d-e09b-6eba5d5bb959"
   },
   "outputs": [
    {
     "data": {
      "text/plain": [
       "array([[0., 1.],\n",
       "       [0., 1.],\n",
       "       [0., 1.],\n",
       "       ...,\n",
       "       [1., 0.],\n",
       "       [0., 1.],\n",
       "       [0., 1.]])"
      ]
     },
     "execution_count": 50,
     "metadata": {},
     "output_type": "execute_result"
    }
   ],
   "source": [
    "arr = y_train  # take sentiment column in df as array\n",
    "y_train = np.zeros((arr.size, arr.max()+1))  # initialize empty (all zero) label array\n",
    "y_train[np.arange(arr.size), arr] = 1  # add ones in indices where we have a value\n",
    "y_train"
   ]
  },
  {
   "cell_type": "code",
   "execution_count": 51,
   "id": "AjheyNEnB1uh",
   "metadata": {
    "colab": {
     "base_uri": "https://localhost:8080/"
    },
    "executionInfo": {
     "elapsed": 665,
     "status": "ok",
     "timestamp": 1640627672910,
     "user": {
      "displayName": "Raju Gaddam",
      "photoUrl": "https://lh3.googleusercontent.com/a-/AOh14GgjdBtf41qgljAMO59VJ9ilvglL2dkZqOylInD1EPI=s64",
      "userId": "17482937853264836503"
     },
     "user_tz": -330
    },
    "id": "AjheyNEnB1uh",
    "outputId": "961aca7f-9f3f-4e70-9f93-0a4151728cea"
   },
   "outputs": [
    {
     "data": {
      "text/plain": [
       "array([[0., 1.],\n",
       "       [0., 1.],\n",
       "       [0., 1.],\n",
       "       ...,\n",
       "       [0., 1.],\n",
       "       [1., 0.],\n",
       "       [0., 1.]])"
      ]
     },
     "execution_count": 51,
     "metadata": {},
     "output_type": "execute_result"
    }
   ],
   "source": [
    "arr = y_test  # take sentiment column in df as array\n",
    "y_test = np.zeros((arr.size, arr.max()+1))  # initialize empty (all zero) label array\n",
    "y_test[np.arange(arr.size), arr] = 1  # add ones in indices where we have a value\n",
    "y_test"
   ]
  },
  {
   "cell_type": "markdown",
   "id": "845cbbae",
   "metadata": {
    "executionInfo": {
     "elapsed": 391,
     "status": "ok",
     "timestamp": 1640629205159,
     "user": {
      "displayName": "Raju Gaddam",
      "photoUrl": "https://lh3.googleusercontent.com/a-/AOh14GgjdBtf41qgljAMO59VJ9ilvglL2dkZqOylInD1EPI=s64",
      "userId": "17482937853264836503"
     },
     "user_tz": -330
    },
    "id": "yGGvZtQKGFLU"
   },
   "source": [
    "#### Creating embed layer"
   ]
  },
  {
   "cell_type": "code",
   "execution_count": 53,
   "id": "467ERWxeHvTT",
   "metadata": {
    "executionInfo": {
     "elapsed": 419,
     "status": "ok",
     "timestamp": 1640629252100,
     "user": {
      "displayName": "Raju Gaddam",
      "photoUrl": "https://lh3.googleusercontent.com/a-/AOh14GgjdBtf41qgljAMO59VJ9ilvglL2dkZqOylInD1EPI=s64",
      "userId": "17482937853264836503"
     },
     "user_tz": -330
    },
    "id": "467ERWxeHvTT"
   },
   "outputs": [],
   "source": [
    "num_words = min(MAX_NUM_WORDS, (len(word_index)+1))\n",
    "embedding_matrix = np.zeros((num_words, embedding_size))\n",
    "for word, i in word_index.items():\n",
    "    if i < num_words:\n",
    "        embedding_vector = embeddings_index.get(word)\n",
    "        if embedding_vector is not None:\n",
    "            # words not found in embedding index will be all-zeros.\n",
    "            embedding_matrix[i] = embedding_vector\n",
    "    else:\n",
    "        continue"
   ]
  },
  {
   "cell_type": "code",
   "execution_count": 54,
   "id": "kI_As2qBH6rR",
   "metadata": {
    "colab": {
     "base_uri": "https://localhost:8080/"
    },
    "executionInfo": {
     "elapsed": 416,
     "status": "ok",
     "timestamp": 1640629261502,
     "user": {
      "displayName": "Raju Gaddam",
      "photoUrl": "https://lh3.googleusercontent.com/a-/AOh14GgjdBtf41qgljAMO59VJ9ilvglL2dkZqOylInD1EPI=s64",
      "userId": "17482937853264836503"
     },
     "user_tz": -330
    },
    "id": "kI_As2qBH6rR",
    "outputId": "520eba9c-fb97-4bbb-821a-a00f7c65a560"
   },
   "outputs": [
    {
     "name": "stdout",
     "output_type": "stream",
     "text": [
      "(4856, 100)\n"
     ]
    }
   ],
   "source": [
    "print(embedding_matrix.shape)"
   ]
  },
  {
   "cell_type": "code",
   "execution_count": 55,
   "id": "-_-qpX5JH8_C",
   "metadata": {
    "executionInfo": {
     "elapsed": 364,
     "status": "ok",
     "timestamp": 1640629278632,
     "user": {
      "displayName": "Raju Gaddam",
      "photoUrl": "https://lh3.googleusercontent.com/a-/AOh14GgjdBtf41qgljAMO59VJ9ilvglL2dkZqOylInD1EPI=s64",
      "userId": "17482937853264836503"
     },
     "user_tz": -330
    },
    "id": "-_-qpX5JH8_C"
   },
   "outputs": [],
   "source": [
    "from keras.layers import Embedding\n",
    "\n",
    "# load pre-trained word embeddings into an Embedding layer\n",
    "# note that we set trainable = False so as to keep the embeddings fixed\n",
    "embedding_layer = Embedding(num_words,\n",
    "                            embedding_size,\n",
    "                            weights=[embedding_matrix],\n",
    "                            input_length=MAX_SEQUENCE_LENGTH,\n",
    "                            trainable=True)"
   ]
  },
  {
   "cell_type": "markdown",
   "id": "30de13b0",
   "metadata": {},
   "source": [
    "#### Creating all metrics in a Dataframe"
   ]
  },
  {
   "cell_type": "code",
   "execution_count": 56,
   "id": "7c3a114d",
   "metadata": {},
   "outputs": [],
   "source": [
    "from sklearn.metrics import accuracy_score,classification_report, recall_score, precision_score, confusion_matrix, f1_score\n",
    "scores = pd.DataFrame(columns=['Model','Train_Accuracy','Train_Recall','Train_Precision','Train_F1_Score','Test_Accuracy','Test_Recall','Test_Precision','Test_F1_Score'])\n",
    "\n",
    "def get_metrics(train_actual,train_predicted,test_actual,test_predicted,model_description,dataframe):\n",
    "    train_accuracy = accuracy_score(train_actual,train_predicted)\n",
    "    train_recall   = recall_score(train_actual,train_predicted)\n",
    "    train_precision= precision_score(train_actual,train_predicted)\n",
    "    train_f1score  = f1_score(train_actual,train_predicted)\n",
    "    test_accuracy = accuracy_score(test_actual,test_predicted)\n",
    "    test_recall   = recall_score(test_actual,test_predicted)\n",
    "    test_precision= precision_score(test_actual,test_predicted)\n",
    "    test_f1score  = f1_score(test_actual,test_predicted)\n",
    "    dataframe = dataframe.append(pd.Series([model_description, train_accuracy,train_recall,train_precision,train_f1score,\n",
    "                                            test_accuracy,test_recall,test_precision,test_f1score],\n",
    "                                           index=scores.columns ), ignore_index=True)\n",
    "    return(dataframe)"
   ]
  },
  {
   "cell_type": "markdown",
   "id": "67d6d23a",
   "metadata": {
    "executionInfo": {
     "elapsed": 385,
     "status": "ok",
     "timestamp": 1640629325846,
     "user": {
      "displayName": "Raju Gaddam",
      "photoUrl": "https://lh3.googleusercontent.com/a-/AOh14GgjdBtf41qgljAMO59VJ9ilvglL2dkZqOylInD1EPI=s64",
      "userId": "17482937853264836503"
     },
     "user_tz": -330
    },
    "id": "peZZpIrbIBPO"
   },
   "source": [
    "#### Simple RNN"
   ]
  },
  {
   "cell_type": "code",
   "execution_count": 57,
   "id": "PjCbuYfOIMw8",
   "metadata": {
    "colab": {
     "base_uri": "https://localhost:8080/"
    },
    "executionInfo": {
     "elapsed": 453,
     "status": "ok",
     "timestamp": 1640629548001,
     "user": {
      "displayName": "Raju Gaddam",
      "photoUrl": "https://lh3.googleusercontent.com/a-/AOh14GgjdBtf41qgljAMO59VJ9ilvglL2dkZqOylInD1EPI=s64",
      "userId": "17482937853264836503"
     },
     "user_tz": -330
    },
    "id": "PjCbuYfOIMw8",
    "outputId": "9c7f55a5-5210-412a-ad32-fbb55dfcd814"
   },
   "outputs": [
    {
     "name": "stdout",
     "output_type": "stream",
     "text": [
      "Model: \"model\"\n",
      "_________________________________________________________________\n",
      " Layer (type)                Output Shape              Param #   \n",
      "=================================================================\n",
      " input_1 (InputLayer)        [(None, 127)]             0         \n",
      "                                                                 \n",
      " embedding (Embedding)       (None, 127, 100)          485600    \n",
      "                                                                 \n",
      " simple_rnn (SimpleRNN)      (None, 100)               20100     \n",
      "                                                                 \n",
      " dropout (Dropout)           (None, 100)               0         \n",
      "                                                                 \n",
      " dense (Dense)               (None, 2)                 202       \n",
      "                                                                 \n",
      "=================================================================\n",
      "Total params: 505,902\n",
      "Trainable params: 505,902\n",
      "Non-trainable params: 0\n",
      "_________________________________________________________________\n"
     ]
    }
   ],
   "source": [
    "input = Input(shape=(MAX_SEQUENCE_LENGTH,), dtype='int32')\n",
    "hl1_embedded = embedding_layer(input)\n",
    "h12_rnn = SimpleRNN(100)(hl1_embedded)\n",
    "h13_dropout = Dropout(0.2)(h12_rnn)\n",
    "output = Dense(2, activation='softmax')(h13_dropout)\n",
    "\n",
    "model = Model(input, output)\n",
    "model.summary()"
   ]
  },
  {
   "cell_type": "code",
   "execution_count": 66,
   "id": "VSfkRwR6IgLj",
   "metadata": {
    "colab": {
     "base_uri": "https://localhost:8080/"
    },
    "executionInfo": {
     "elapsed": 82233,
     "status": "ok",
     "timestamp": 1640629632049,
     "user": {
      "displayName": "Raju Gaddam",
      "photoUrl": "https://lh3.googleusercontent.com/a-/AOh14GgjdBtf41qgljAMO59VJ9ilvglL2dkZqOylInD1EPI=s64",
      "userId": "17482937853264836503"
     },
     "user_tz": -330
    },
    "id": "VSfkRwR6IgLj",
    "outputId": "1ad23ec6-8f00-4316-8757-b387f65ba440"
   },
   "outputs": [
    {
     "name": "stdout",
     "output_type": "stream",
     "text": [
      "Epoch 1/30\n",
      "27/27 [==============================] - 5s 138ms/step - loss: 0.2981 - acc: 0.9004 - val_loss: 0.2631 - val_acc: 0.9195\n",
      "Epoch 2/30\n",
      "27/27 [==============================] - 3s 105ms/step - loss: 0.2773 - acc: 0.9019 - val_loss: 0.3006 - val_acc: 0.9099\n",
      "Epoch 3/30\n",
      "27/27 [==============================] - 3s 114ms/step - loss: 0.3498 - acc: 0.8764 - val_loss: 0.2907 - val_acc: 0.9135\n",
      "Epoch 4/30\n",
      "27/27 [==============================] - 3s 126ms/step - loss: 0.2733 - acc: 0.9031 - val_loss: 0.2761 - val_acc: 0.9171\n",
      "Epoch 5/30\n",
      "27/27 [==============================] - 3s 121ms/step - loss: 0.2529 - acc: 0.9076 - val_loss: 0.2718 - val_acc: 0.9135\n",
      "Epoch 6/30\n",
      "27/27 [==============================] - 3s 121ms/step - loss: 0.2322 - acc: 0.9196 - val_loss: 0.2670 - val_acc: 0.9062\n",
      "Epoch 7/30\n",
      "27/27 [==============================] - 3s 109ms/step - loss: 0.2102 - acc: 0.9277 - val_loss: 0.2585 - val_acc: 0.9159\n",
      "Epoch 8/30\n",
      "27/27 [==============================] - 3s 128ms/step - loss: 0.1850 - acc: 0.9340 - val_loss: 0.2515 - val_acc: 0.9171\n",
      "Epoch 9/30\n",
      "27/27 [==============================] - 4s 131ms/step - loss: 0.1559 - acc: 0.9502 - val_loss: 0.2536 - val_acc: 0.9050\n",
      "Epoch 10/30\n",
      "27/27 [==============================] - 4s 138ms/step - loss: 0.1351 - acc: 0.9586 - val_loss: 0.2476 - val_acc: 0.9171\n",
      "Epoch 11/30\n",
      "27/27 [==============================] - 3s 126ms/step - loss: 0.1087 - acc: 0.9670 - val_loss: 0.2672 - val_acc: 0.8954\n",
      "Epoch 12/30\n",
      "27/27 [==============================] - 3s 121ms/step - loss: 0.0857 - acc: 0.9733 - val_loss: 0.2589 - val_acc: 0.9050\n",
      "Epoch 13/30\n",
      "27/27 [==============================] - 3s 121ms/step - loss: 0.0696 - acc: 0.9784 - val_loss: 0.2637 - val_acc: 0.9231\n",
      "Epoch 14/30\n",
      "27/27 [==============================] - 3s 120ms/step - loss: 0.0993 - acc: 0.9670 - val_loss: 0.2788 - val_acc: 0.9159\n",
      "Epoch 15/30\n",
      "27/27 [==============================] - 3s 121ms/step - loss: 0.0614 - acc: 0.9811 - val_loss: 0.2801 - val_acc: 0.9062\n",
      "Epoch 16/30\n",
      "27/27 [==============================] - 3s 122ms/step - loss: 0.0509 - acc: 0.9847 - val_loss: 0.2897 - val_acc: 0.9099\n",
      "Epoch 17/30\n",
      "27/27 [==============================] - 3s 124ms/step - loss: 0.0420 - acc: 0.9862 - val_loss: 0.3049 - val_acc: 0.9111\n",
      "Epoch 18/30\n",
      "27/27 [==============================] - 3s 125ms/step - loss: 0.0377 - acc: 0.9877 - val_loss: 0.3176 - val_acc: 0.8990\n",
      "Epoch 19/30\n",
      "27/27 [==============================] - 3s 120ms/step - loss: 0.0315 - acc: 0.9895 - val_loss: 0.3083 - val_acc: 0.9159\n",
      "Epoch 20/30\n",
      "27/27 [==============================] - 3s 125ms/step - loss: 0.0299 - acc: 0.9895 - val_loss: 0.3273 - val_acc: 0.9050\n",
      "Epoch 00020: early stopping\n"
     ]
    },
    {
     "data": {
      "text/plain": [
       "{'loss': [0.29809123277664185,\n",
       "  0.27726423740386963,\n",
       "  0.34978625178337097,\n",
       "  0.2732713520526886,\n",
       "  0.25289055705070496,\n",
       "  0.23222392797470093,\n",
       "  0.21022243797779083,\n",
       "  0.1849624365568161,\n",
       "  0.15590959787368774,\n",
       "  0.13510926067829132,\n",
       "  0.1087256595492363,\n",
       "  0.08571508526802063,\n",
       "  0.06964266300201416,\n",
       "  0.09926408529281616,\n",
       "  0.06139027699828148,\n",
       "  0.050915077328681946,\n",
       "  0.04197348654270172,\n",
       "  0.037697501480579376,\n",
       "  0.031490348279476166,\n",
       "  0.029873542487621307],\n",
       " 'acc': [0.9003601670265198,\n",
       "  0.901860773563385,\n",
       "  0.8763505220413208,\n",
       "  0.9030612111091614,\n",
       "  0.9075630307197571,\n",
       "  0.9195678234100342,\n",
       "  0.9276710748672485,\n",
       "  0.9339736104011536,\n",
       "  0.9501800537109375,\n",
       "  0.958583414554596,\n",
       "  0.9669867753982544,\n",
       "  0.9732893109321594,\n",
       "  0.9783913493156433,\n",
       "  0.9669867753982544,\n",
       "  0.9810924530029297,\n",
       "  0.9846938848495483,\n",
       "  0.9861944913864136,\n",
       "  0.9876950979232788,\n",
       "  0.9894958138465881,\n",
       "  0.9894958138465881],\n",
       " 'val_loss': [0.2630770802497864,\n",
       "  0.30060911178588867,\n",
       "  0.2906610667705536,\n",
       "  0.27611568570137024,\n",
       "  0.2717730402946472,\n",
       "  0.26695409417152405,\n",
       "  0.258472204208374,\n",
       "  0.2515106499195099,\n",
       "  0.2535512149333954,\n",
       "  0.24755357205867767,\n",
       "  0.26720213890075684,\n",
       "  0.25890639424324036,\n",
       "  0.2636983096599579,\n",
       "  0.2788202166557312,\n",
       "  0.2801407277584076,\n",
       "  0.2896628975868225,\n",
       "  0.30493274331092834,\n",
       "  0.3176099359989166,\n",
       "  0.30825546383857727,\n",
       "  0.32732486724853516],\n",
       " 'val_acc': [0.9194711446762085,\n",
       "  0.9098557829856873,\n",
       "  0.9134615659713745,\n",
       "  0.917067289352417,\n",
       "  0.9134615659713745,\n",
       "  0.90625,\n",
       "  0.9158653616905212,\n",
       "  0.917067289352417,\n",
       "  0.9050480723381042,\n",
       "  0.917067289352417,\n",
       "  0.895432710647583,\n",
       "  0.9050480723381042,\n",
       "  0.9230769276618958,\n",
       "  0.9158653616905212,\n",
       "  0.90625,\n",
       "  0.9098557829856873,\n",
       "  0.911057710647583,\n",
       "  0.8990384340286255,\n",
       "  0.9158653616905212,\n",
       "  0.9050480723381042]}"
      ]
     },
     "execution_count": 66,
     "metadata": {},
     "output_type": "execute_result"
    }
   ],
   "source": [
    "mc = ModelCheckpoint(\"weights.{epoch:02d}-{val_acc:.2f}.hdf5\", monitor='val_loss',mode='min', save_best_only=True)\n",
    "es = EarlyStopping(monitor='val_loss', patience=10, verbose=1)\n",
    "rlrop = ReduceLROnPlateau(monitor='val_loss', factor=0.1, patience=5)\n",
    "\n",
    "model.compile(loss='binary_crossentropy', optimizer='adam', metrics=['acc'])\n",
    "model.fit(X_train, y_train, epochs=30,callbacks=[mc,es],\n",
    "          validation_data=(X_test, y_test),\n",
    "          batch_size=128).history"
   ]
  },
  {
   "cell_type": "code",
   "execution_count": 67,
   "id": "sYfWVA5GI0fN",
   "metadata": {
    "executionInfo": {
     "elapsed": 4818,
     "status": "ok",
     "timestamp": 1640629880582,
     "user": {
      "displayName": "Raju Gaddam",
      "photoUrl": "https://lh3.googleusercontent.com/a-/AOh14GgjdBtf41qgljAMO59VJ9ilvglL2dkZqOylInD1EPI=s64",
      "userId": "17482937853264836503"
     },
     "user_tz": -330
    },
    "id": "sYfWVA5GI0fN"
   },
   "outputs": [],
   "source": [
    "y_pred_train = model.predict(X_train)\n",
    "y_pred_test = model.predict(X_test)"
   ]
  },
  {
   "cell_type": "code",
   "execution_count": 70,
   "id": "d396c06d",
   "metadata": {},
   "outputs": [],
   "source": [
    "y_pred_train = np.argmax(y_pred_train, axis=-1)\n",
    "y_pred_test = np.argmax(y_pred_test, axis=-1)"
   ]
  },
  {
   "cell_type": "code",
   "execution_count": 71,
   "id": "582683f6",
   "metadata": {
    "scrolled": true
   },
   "outputs": [
    {
     "data": {
      "text/plain": [
       "array([1, 1, 1, ..., 0, 1, 1], dtype=int64)"
      ]
     },
     "execution_count": 71,
     "metadata": {},
     "output_type": "execute_result"
    }
   ],
   "source": [
    "y_pred_train"
   ]
  },
  {
   "cell_type": "code",
   "execution_count": 72,
   "id": "bLCo51RzLCkX",
   "metadata": {
    "id": "bLCo51RzLCkX",
    "scrolled": true
   },
   "outputs": [
    {
     "data": {
      "text/html": [
       "<div>\n",
       "<style scoped>\n",
       "    .dataframe tbody tr th:only-of-type {\n",
       "        vertical-align: middle;\n",
       "    }\n",
       "\n",
       "    .dataframe tbody tr th {\n",
       "        vertical-align: top;\n",
       "    }\n",
       "\n",
       "    .dataframe thead th {\n",
       "        text-align: right;\n",
       "    }\n",
       "</style>\n",
       "<table border=\"1\" class=\"dataframe\">\n",
       "  <thead>\n",
       "    <tr style=\"text-align: right;\">\n",
       "      <th></th>\n",
       "      <th>Model</th>\n",
       "      <th>Train_Accuracy</th>\n",
       "      <th>Train_Recall</th>\n",
       "      <th>Train_Precision</th>\n",
       "      <th>Train_F1_Score</th>\n",
       "      <th>Test_Accuracy</th>\n",
       "      <th>Test_Recall</th>\n",
       "      <th>Test_Precision</th>\n",
       "      <th>Test_F1_Score</th>\n",
       "    </tr>\n",
       "  </thead>\n",
       "  <tbody>\n",
       "    <tr>\n",
       "      <th>0</th>\n",
       "      <td>Simple RNN</td>\n",
       "      <td>0.991897</td>\n",
       "      <td>0.996999</td>\n",
       "      <td>0.994016</td>\n",
       "      <td>0.995505</td>\n",
       "      <td>0.905048</td>\n",
       "      <td>0.94517</td>\n",
       "      <td>0.95138</td>\n",
       "      <td>0.948265</td>\n",
       "    </tr>\n",
       "  </tbody>\n",
       "</table>\n",
       "</div>"
      ],
      "text/plain": [
       "        Model  Train_Accuracy  Train_Recall  Train_Precision  Train_F1_Score  \\\n",
       "0  Simple RNN        0.991897      0.996999         0.994016        0.995505   \n",
       "\n",
       "   Test_Accuracy  Test_Recall  Test_Precision  Test_F1_Score  \n",
       "0       0.905048      0.94517         0.95138       0.948265  "
      ]
     },
     "execution_count": 72,
     "metadata": {},
     "output_type": "execute_result"
    }
   ],
   "source": [
    "scores = get_metrics(y_train_act,y_pred_train,y_test_act,y_pred_test,\"Simple RNN\",scores)\n",
    "scores"
   ]
  },
  {
   "cell_type": "markdown",
   "id": "34de4387",
   "metadata": {},
   "source": [
    "#### LSTM"
   ]
  },
  {
   "cell_type": "code",
   "execution_count": 75,
   "id": "4435ba87",
   "metadata": {},
   "outputs": [
    {
     "name": "stdout",
     "output_type": "stream",
     "text": [
      "Model: \"model_2\"\n",
      "_________________________________________________________________\n",
      " Layer (type)                Output Shape              Param #   \n",
      "=================================================================\n",
      " input_3 (InputLayer)        [(None, 127)]             0         \n",
      "                                                                 \n",
      " embedding (Embedding)       (None, 127, 100)          485600    \n",
      "                                                                 \n",
      " lstm_1 (LSTM)               (None, 100)               80400     \n",
      "                                                                 \n",
      " dropout_2 (Dropout)         (None, 100)               0         \n",
      "                                                                 \n",
      " dense_2 (Dense)             (None, 2)                 202       \n",
      "                                                                 \n",
      "=================================================================\n",
      "Total params: 566,202\n",
      "Trainable params: 566,202\n",
      "Non-trainable params: 0\n",
      "_________________________________________________________________\n"
     ]
    }
   ],
   "source": [
    "input = Input(shape=(MAX_SEQUENCE_LENGTH,), dtype='int32')\n",
    "hl1_embedded = embedding_layer(input)\n",
    "h12_lstm = LSTM(100)(hl1_embedded)\n",
    "h13_dropout = Dropout(0.2)(h12_lstm)\n",
    "output = Dense(2, activation='softmax')(h13_dropout)\n",
    "\n",
    "model1 = Model(input, output)\n",
    "model1.summary()"
   ]
  },
  {
   "cell_type": "code",
   "execution_count": 76,
   "id": "cd8fc494",
   "metadata": {},
   "outputs": [
    {
     "name": "stdout",
     "output_type": "stream",
     "text": [
      "Epoch 1/30\n",
      "27/27 [==============================] - 11s 324ms/step - loss: 0.3602 - acc: 0.8929 - val_loss: 0.2729 - val_acc: 0.9207\n",
      "Epoch 2/30\n",
      "27/27 [==============================] - 8s 308ms/step - loss: 0.2726 - acc: 0.9001 - val_loss: 0.2460 - val_acc: 0.9171\n",
      "Epoch 3/30\n",
      "27/27 [==============================] - 8s 309ms/step - loss: 0.2172 - acc: 0.9127 - val_loss: 0.2195 - val_acc: 0.9255\n",
      "Epoch 4/30\n",
      "27/27 [==============================] - 8s 307ms/step - loss: 0.1567 - acc: 0.9415 - val_loss: 0.2484 - val_acc: 0.8942\n",
      "Epoch 5/30\n",
      "27/27 [==============================] - 8s 293ms/step - loss: 0.1200 - acc: 0.9613 - val_loss: 0.2404 - val_acc: 0.9026\n",
      "Epoch 6/30\n",
      "27/27 [==============================] - 9s 344ms/step - loss: 0.0890 - acc: 0.9697 - val_loss: 0.2396 - val_acc: 0.9123\n",
      "Epoch 7/30\n",
      "27/27 [==============================] - 9s 330ms/step - loss: 0.0673 - acc: 0.9772 - val_loss: 0.2574 - val_acc: 0.9255\n",
      "Epoch 8/30\n",
      "27/27 [==============================] - 8s 302ms/step - loss: 0.0598 - acc: 0.9805 - val_loss: 0.2821 - val_acc: 0.9075\n",
      "Epoch 9/30\n",
      "27/27 [==============================] - 9s 330ms/step - loss: 0.0469 - acc: 0.9847 - val_loss: 0.3132 - val_acc: 0.9147\n",
      "Epoch 10/30\n",
      "27/27 [==============================] - 8s 287ms/step - loss: 0.0620 - acc: 0.9781 - val_loss: 0.3151 - val_acc: 0.9062\n",
      "Epoch 11/30\n",
      "27/27 [==============================] - 8s 304ms/step - loss: 0.0416 - acc: 0.9841 - val_loss: 0.3088 - val_acc: 0.9195\n",
      "Epoch 12/30\n",
      "27/27 [==============================] - 8s 297ms/step - loss: 0.0361 - acc: 0.9850 - val_loss: 0.3248 - val_acc: 0.9159\n",
      "Epoch 13/30\n",
      "27/27 [==============================] - 9s 316ms/step - loss: 0.0360 - acc: 0.9853 - val_loss: 0.3431 - val_acc: 0.9135\n",
      "Epoch 00013: early stopping\n"
     ]
    },
    {
     "data": {
      "text/plain": [
       "{'loss': [0.3602374196052551,\n",
       "  0.2726143002510071,\n",
       "  0.21723267436027527,\n",
       "  0.1567191183567047,\n",
       "  0.11999458819627762,\n",
       "  0.08897081017494202,\n",
       "  0.06731913983821869,\n",
       "  0.05984385311603546,\n",
       "  0.04691268131136894,\n",
       "  0.062009040266275406,\n",
       "  0.04162008687853813,\n",
       "  0.03609665110707283,\n",
       "  0.03596643730998039],\n",
       " 'acc': [0.8928571343421936,\n",
       "  0.9000599980354309,\n",
       "  0.912665069103241,\n",
       "  0.941476583480835,\n",
       "  0.9612845182418823,\n",
       "  0.9696878790855408,\n",
       "  0.9771908521652222,\n",
       "  0.9804921746253967,\n",
       "  0.9846938848495483,\n",
       "  0.9780912399291992,\n",
       "  0.9840936660766602,\n",
       "  0.9849939942359924,\n",
       "  0.9852941036224365],\n",
       " 'val_loss': [0.27287614345550537,\n",
       "  0.24602772295475006,\n",
       "  0.2194841504096985,\n",
       "  0.2484348714351654,\n",
       "  0.24044273793697357,\n",
       "  0.23959605395793915,\n",
       "  0.25739043951034546,\n",
       "  0.2821410000324249,\n",
       "  0.3131769895553589,\n",
       "  0.31509822607040405,\n",
       "  0.30878737568855286,\n",
       "  0.3247554898262024,\n",
       "  0.34307152032852173],\n",
       " 'val_acc': [0.9206730723381042,\n",
       "  0.917067289352417,\n",
       "  0.9254807829856873,\n",
       "  0.8942307829856873,\n",
       "  0.9026442170143127,\n",
       "  0.9122596383094788,\n",
       "  0.9254807829856873,\n",
       "  0.9074519276618958,\n",
       "  0.9146634340286255,\n",
       "  0.90625,\n",
       "  0.9194711446762085,\n",
       "  0.9158653616905212,\n",
       "  0.9134615659713745]}"
      ]
     },
     "execution_count": 76,
     "metadata": {},
     "output_type": "execute_result"
    }
   ],
   "source": [
    "mc = ModelCheckpoint(\"weights.{epoch:02d}-{val_acc:.2f}.hdf5\", monitor='val_loss',mode='min', save_best_only=True)\n",
    "es = EarlyStopping(monitor='val_loss', patience=10, verbose=1)\n",
    "rlrop = ReduceLROnPlateau(monitor='val_loss', factor=0.1, patience=5)\n",
    "\n",
    "model1.compile(loss='binary_crossentropy', optimizer='adam', metrics=['acc'])\n",
    "model1.fit(X_train, y_train, epochs=30,callbacks=[mc,es],\n",
    "          validation_data=(X_test, y_test),\n",
    "          batch_size=128).history"
   ]
  },
  {
   "cell_type": "code",
   "execution_count": 77,
   "id": "1e4f0af6",
   "metadata": {},
   "outputs": [],
   "source": [
    "y_pred_train = model1.predict(X_train)\n",
    "y_pred_test = model1.predict(X_test)"
   ]
  },
  {
   "cell_type": "code",
   "execution_count": 78,
   "id": "279a5f47",
   "metadata": {},
   "outputs": [],
   "source": [
    "y_pred_train = np.argmax(y_pred_train, axis=-1)\n",
    "y_pred_test = np.argmax(y_pred_test, axis=-1)"
   ]
  },
  {
   "cell_type": "code",
   "execution_count": 79,
   "id": "52735ee9",
   "metadata": {},
   "outputs": [
    {
     "data": {
      "text/html": [
       "<div>\n",
       "<style scoped>\n",
       "    .dataframe tbody tr th:only-of-type {\n",
       "        vertical-align: middle;\n",
       "    }\n",
       "\n",
       "    .dataframe tbody tr th {\n",
       "        vertical-align: top;\n",
       "    }\n",
       "\n",
       "    .dataframe thead th {\n",
       "        text-align: right;\n",
       "    }\n",
       "</style>\n",
       "<table border=\"1\" class=\"dataframe\">\n",
       "  <thead>\n",
       "    <tr style=\"text-align: right;\">\n",
       "      <th></th>\n",
       "      <th>Model</th>\n",
       "      <th>Train_Accuracy</th>\n",
       "      <th>Train_Recall</th>\n",
       "      <th>Train_Precision</th>\n",
       "      <th>Train_F1_Score</th>\n",
       "      <th>Test_Accuracy</th>\n",
       "      <th>Test_Recall</th>\n",
       "      <th>Test_Precision</th>\n",
       "      <th>Test_F1_Score</th>\n",
       "    </tr>\n",
       "  </thead>\n",
       "  <tbody>\n",
       "    <tr>\n",
       "      <th>0</th>\n",
       "      <td>Simple RNN</td>\n",
       "      <td>0.991897</td>\n",
       "      <td>0.996999</td>\n",
       "      <td>0.994016</td>\n",
       "      <td>0.995505</td>\n",
       "      <td>0.905048</td>\n",
       "      <td>0.945170</td>\n",
       "      <td>0.951380</td>\n",
       "      <td>0.948265</td>\n",
       "    </tr>\n",
       "    <tr>\n",
       "      <th>1</th>\n",
       "      <td>LSTM</td>\n",
       "      <td>0.987095</td>\n",
       "      <td>0.996332</td>\n",
       "      <td>0.989404</td>\n",
       "      <td>0.992856</td>\n",
       "      <td>0.913462</td>\n",
       "      <td>0.954308</td>\n",
       "      <td>0.951823</td>\n",
       "      <td>0.953064</td>\n",
       "    </tr>\n",
       "  </tbody>\n",
       "</table>\n",
       "</div>"
      ],
      "text/plain": [
       "        Model  Train_Accuracy  Train_Recall  Train_Precision  Train_F1_Score  \\\n",
       "0  Simple RNN        0.991897      0.996999         0.994016        0.995505   \n",
       "1        LSTM        0.987095      0.996332         0.989404        0.992856   \n",
       "\n",
       "   Test_Accuracy  Test_Recall  Test_Precision  Test_F1_Score  \n",
       "0       0.905048     0.945170        0.951380       0.948265  \n",
       "1       0.913462     0.954308        0.951823       0.953064  "
      ]
     },
     "execution_count": 79,
     "metadata": {},
     "output_type": "execute_result"
    }
   ],
   "source": [
    "scores = get_metrics(y_train_act,y_pred_train,y_test_act,y_pred_test,\"LSTM\",scores)\n",
    "scores"
   ]
  },
  {
   "cell_type": "markdown",
   "id": "fc0bb74f",
   "metadata": {},
   "source": [
    "### Bidirectional LSTM\n",
    "    * Bidirectional recurrent neural networks(RNN) are just putting two independent RNNs together. \n",
    "    * The input sequence is fed in normal time order for one network, and in reverse time order for another. \n",
    "    * The outputs of the two networks are usually concatenated at each time step.\n",
    "    * This structure allows the networks to have both backward and forward information about the sequence at every  time step."
   ]
  },
  {
   "cell_type": "code",
   "execution_count": 84,
   "id": "589d8a33",
   "metadata": {},
   "outputs": [
    {
     "name": "stdout",
     "output_type": "stream",
     "text": [
      "Model: \"model_6\"\n",
      "_________________________________________________________________\n",
      " Layer (type)                Output Shape              Param #   \n",
      "=================================================================\n",
      " input_7 (InputLayer)        [(None, 127)]             0         \n",
      "                                                                 \n",
      " embedding (Embedding)       (None, 127, 100)          485600    \n",
      "                                                                 \n",
      " bidirectional_3 (Bidirectio  (None, 200)              160800    \n",
      " nal)                                                            \n",
      "                                                                 \n",
      " dropout_4 (Dropout)         (None, 200)               0         \n",
      "                                                                 \n",
      " dense_6 (Dense)             (None, 2)                 402       \n",
      "                                                                 \n",
      "=================================================================\n",
      "Total params: 646,802\n",
      "Trainable params: 646,802\n",
      "Non-trainable params: 0\n",
      "_________________________________________________________________\n"
     ]
    }
   ],
   "source": [
    "input = Input(shape=(MAX_SEQUENCE_LENGTH,), dtype='int32')\n",
    "hl1_embedded = embedding_layer(input)\n",
    "h12_lstm = Bidirectional(LSTM(100))(hl1_embedded)\n",
    "h13_dropout = Dropout(0.2)(h12_lstm)\n",
    "output = Dense(2, activation='softmax')(h13_dropout)\n",
    "\n",
    "model2 = Model(input, output)\n",
    "model2.summary()"
   ]
  },
  {
   "cell_type": "code",
   "execution_count": 85,
   "id": "82f74746",
   "metadata": {},
   "outputs": [],
   "source": [
    "y_pred_train = model2.predict(X_train)\n",
    "y_pred_test = model2.predict(X_test)"
   ]
  },
  {
   "cell_type": "code",
   "execution_count": 86,
   "id": "b178a8d3",
   "metadata": {},
   "outputs": [],
   "source": [
    "y_pred_train = np.argmax(y_pred_train, axis=-1)\n",
    "y_pred_test = np.argmax(y_pred_test, axis=-1)"
   ]
  },
  {
   "cell_type": "code",
   "execution_count": 87,
   "id": "ffb735f8",
   "metadata": {},
   "outputs": [
    {
     "data": {
      "text/html": [
       "<div>\n",
       "<style scoped>\n",
       "    .dataframe tbody tr th:only-of-type {\n",
       "        vertical-align: middle;\n",
       "    }\n",
       "\n",
       "    .dataframe tbody tr th {\n",
       "        vertical-align: top;\n",
       "    }\n",
       "\n",
       "    .dataframe thead th {\n",
       "        text-align: right;\n",
       "    }\n",
       "</style>\n",
       "<table border=\"1\" class=\"dataframe\">\n",
       "  <thead>\n",
       "    <tr style=\"text-align: right;\">\n",
       "      <th></th>\n",
       "      <th>Model</th>\n",
       "      <th>Train_Accuracy</th>\n",
       "      <th>Train_Recall</th>\n",
       "      <th>Train_Precision</th>\n",
       "      <th>Train_F1_Score</th>\n",
       "      <th>Test_Accuracy</th>\n",
       "      <th>Test_Recall</th>\n",
       "      <th>Test_Precision</th>\n",
       "      <th>Test_F1_Score</th>\n",
       "    </tr>\n",
       "  </thead>\n",
       "  <tbody>\n",
       "    <tr>\n",
       "      <th>0</th>\n",
       "      <td>Simple RNN</td>\n",
       "      <td>0.991897</td>\n",
       "      <td>0.996999</td>\n",
       "      <td>0.994016</td>\n",
       "      <td>0.995505</td>\n",
       "      <td>0.905048</td>\n",
       "      <td>0.945170</td>\n",
       "      <td>0.951380</td>\n",
       "      <td>0.948265</td>\n",
       "    </tr>\n",
       "    <tr>\n",
       "      <th>1</th>\n",
       "      <td>LSTM</td>\n",
       "      <td>0.987095</td>\n",
       "      <td>0.996332</td>\n",
       "      <td>0.989404</td>\n",
       "      <td>0.992856</td>\n",
       "      <td>0.913462</td>\n",
       "      <td>0.954308</td>\n",
       "      <td>0.951823</td>\n",
       "      <td>0.953064</td>\n",
       "    </tr>\n",
       "    <tr>\n",
       "      <th>2</th>\n",
       "      <td>Bidirectional LSTM</td>\n",
       "      <td>0.255702</td>\n",
       "      <td>0.210070</td>\n",
       "      <td>0.850202</td>\n",
       "      <td>0.336898</td>\n",
       "      <td>0.247596</td>\n",
       "      <td>0.203655</td>\n",
       "      <td>0.906977</td>\n",
       "      <td>0.332623</td>\n",
       "    </tr>\n",
       "  </tbody>\n",
       "</table>\n",
       "</div>"
      ],
      "text/plain": [
       "                Model  Train_Accuracy  Train_Recall  Train_Precision  \\\n",
       "0          Simple RNN        0.991897      0.996999         0.994016   \n",
       "1                LSTM        0.987095      0.996332         0.989404   \n",
       "2  Bidirectional LSTM        0.255702      0.210070         0.850202   \n",
       "\n",
       "   Train_F1_Score  Test_Accuracy  Test_Recall  Test_Precision  Test_F1_Score  \n",
       "0        0.995505       0.905048     0.945170        0.951380       0.948265  \n",
       "1        0.992856       0.913462     0.954308        0.951823       0.953064  \n",
       "2        0.336898       0.247596     0.203655        0.906977       0.332623  "
      ]
     },
     "execution_count": 87,
     "metadata": {},
     "output_type": "execute_result"
    }
   ],
   "source": [
    "scores = get_metrics(y_train_act,y_pred_train,y_test_act,y_pred_test,\"Bidirectional LSTM\",scores)\n",
    "scores"
   ]
  },
  {
   "cell_type": "code",
   "execution_count": null,
   "id": "3c9726a0",
   "metadata": {},
   "outputs": [],
   "source": []
  }
 ],
 "metadata": {
  "accelerator": "TPU",
  "colab": {
   "collapsed_sections": [],
   "name": "LSTM.ipynb",
   "provenance": []
  },
  "kernelspec": {
   "display_name": "Python 3",
   "language": "python",
   "name": "python3"
  },
  "language_info": {
   "codemirror_mode": {
    "name": "ipython",
    "version": 3
   },
   "file_extension": ".py",
   "mimetype": "text/x-python",
   "name": "python",
   "nbconvert_exporter": "python",
   "pygments_lexer": "ipython3",
   "version": "3.8.8"
  }
 },
 "nbformat": 4,
 "nbformat_minor": 5
}
